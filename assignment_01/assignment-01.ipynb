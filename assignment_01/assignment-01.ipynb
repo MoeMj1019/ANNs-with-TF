{
 "cells": [
  {
   "cell_type": "code",
   "execution_count": 70,
   "metadata": {},
   "outputs": [],
   "source": [
    "import numpy as np\n",
    "import matplotlib.pyplot as plt\n",
    "import urllib.request\n",
    "import os\n"
   ]
  },
  {
   "cell_type": "markdown",
   "metadata": {},
   "source": [
    "#### Loading Data"
   ]
  },
  {
   "cell_type": "code",
   "execution_count": 71,
   "metadata": {},
   "outputs": [],
   "source": [
    "# Check if data is already there and only download if it isnt\n",
    "if not os.path.exists('optdigits.tra') and not os.path.exists('optdigits.tes'):\n",
    "\n",
    "    # URLs for the dataset\n",
    "    train_url = \"http://archive.ics.uci.edu/ml/machine-learning-databases/optdigits/optdigits.tra\"\n",
    "    test_url = \"http://archive.ics.uci.edu/ml/machine-learning-databases/optdigits/optdigits.tes\"\n",
    "\n",
    "    urllib.request.urlretrieve(train_url, 'optdigits.tra') # training data\n",
    "    urllib.request.urlretrieve(test_url, 'optdigits.tes') # test data"
   ]
  },
  {
   "cell_type": "code",
   "execution_count": 72,
   "metadata": {},
   "outputs": [],
   "source": [
    "# load the data and normalize it\n",
    "def load_data(filename):\n",
    "    data = np.loadtxt(filename, delimiter=',')\n",
    "    inputs = (data[:, :-1] - 8) / 8.0 # Normalize the inputs between -1 and 1\n",
    "    targets = np.eye(10)[data[:, -1].astype(int)]  # One-hot encoding\n",
    "    return list(zip(inputs, targets))\n",
    "\n",
    "# Load the training and test data\n",
    "train_data = load_data('optdigits.tra')\n",
    "test_data = load_data('optdigits.tes')"
   ]
  },
  {
   "cell_type": "code",
   "execution_count": 73,
   "metadata": {},
   "outputs": [
    {
     "data": {
      "text/plain": [
       "(array([-1.   , -0.875, -0.25 ,  0.875,  0.5  , -0.875, -1.   , -1.   ,\n",
       "        -1.   , -0.125,  1.   , -0.25 , -0.25 ,  0.25 , -1.   , -1.   ,\n",
       "        -1.   ,  0.   ,  1.   , -0.75 , -1.   ,  0.375, -0.75 , -1.   ,\n",
       "        -1.   , -0.375,  1.   , -0.625, -1.   , -0.375, -0.125, -1.   ,\n",
       "        -1.   , -0.125,  0.625, -0.625, -1.   ,  0.   , -0.125, -1.   ,\n",
       "        -1.   , -0.5  ,  0.5  , -1.   , -0.875,  0.625, -0.375, -1.   ,\n",
       "        -1.   , -1.   ,  0.75 ,  0.125,  0.875,  0.125, -1.   , -1.   ,\n",
       "        -1.   , -1.   , -0.25 ,  0.75 , -0.125, -0.875, -1.   , -1.   ]),\n",
       " array([1., 0., 0., 0., 0., 0., 0., 0., 0., 0.]))"
      ]
     },
     "execution_count": 73,
     "metadata": {},
     "output_type": "execute_result"
    }
   ],
   "source": [
    "# sanity check\n",
    "train_data[0]"
   ]
  },
  {
   "cell_type": "code",
   "execution_count": 74,
   "metadata": {},
   "outputs": [
    {
     "data": {
      "image/png": "[encoded data removed]",
      "text/plain": [
       "<Figure size 640x480 with 5 Axes>"
      ]
     },
     "metadata": {},
     "output_type": "display_data"
    }
   ],
   "source": [
    "# a visualization of the a small sample of the data\n",
    "\n",
    "# Function to draw images\n",
    "def draw_images(data, num_images):\n",
    "    for index, (image, label) in enumerate(data[:num_images]):\n",
    "        plt.subplot(1, num_images, index + 1)\n",
    "        plt.axis('off')\n",
    "        plt.imshow(image.reshape((8,8)), cmap=plt.cm.gray_r)\n",
    "        label = np.argmax(label)\n",
    "        plt.title('Label: %i' % label, fontsize = 12)\n",
    "    plt.show()\n",
    "\n",
    "# Draw some images from the training data\n",
    "draw_images(train_data, 5)"
   ]
  },
  {
   "cell_type": "code",
   "execution_count": 75,
   "metadata": {},
   "outputs": [
    {
     "name": "stdout",
     "output_type": "stream",
     "text": [
      "(10, 64) (10, 10)\n"
     ]
    }
   ],
   "source": [
    "# data generator that yields minibatches from the data of a given size\n",
    "def data_generator(data, minibatch_size):\n",
    "    np.random.shuffle(data)\n",
    "    for i in range(0, len(data), minibatch_size):\n",
    "        minibatch = data[i:i+minibatch_size]\n",
    "        inputs = np.array([item[0] for item in minibatch])\n",
    "        targets = np.array([item[1] for item in minibatch])\n",
    "        yield inputs, targets\n",
    "\n",
    "# Check the data generator\n",
    "train_data_gen = data_generator(train_data, 10)\n",
    "inouts, outouts = next(train_data_gen)\n",
    "print(inouts.shape, outouts.shape)"
   ]
  },
  {
   "cell_type": "markdown",
   "metadata": {},
   "source": [
    "#### 2.2, 2.3 Activation Functions"
   ]
  },
  {
   "cell_type": "code",
   "execution_count": 76,
   "metadata": {},
   "outputs": [],
   "source": [
    "class Module:\n",
    "    \"\"\"Abstract module class that NN are composed off\"\"\"\n",
    "    def __call__(self, input):\n",
    "        # Forward pass/inference\n",
    "        raise NotImplementedError\n",
    "    \n",
    "    def back(self, grad):\n",
    "        # Backward pass/derivative\n",
    "        raise NotImplementedError\n",
    "\n",
    "    def parameters(self):\n",
    "        # Return list of parameters\n",
    "        return []\n",
    "    \n",
    "    def __str__(self):\n",
    "        return self.__class__.__name__ + '()'"
   ]
  },
  {
   "cell_type": "code",
   "execution_count": 77,
   "metadata": {},
   "outputs": [],
   "source": [
    "class Sigmoid(Module):\n",
    "    \"\"\"Sigmoid activation function\"\"\"\n",
    "    def __call__(self, input):\n",
    "        self.output = 1 / (1 + np.exp(-input))\n",
    "        return self.output\n",
    "    \n",
    "    def back(self, grad):\n",
    "        return grad * self.output * (1 - self.output)\n",
    "    \n",
    "    def __str__(self):\n",
    "        return self.__class__.__name__\n",
    "    \n",
    "class Softmax(Module):\n",
    "    \"\"\"Softmax activation function\"\"\"\n",
    "    def __call__(self, input):\n",
    "        exp = np.exp(input - np.max(input, axis=-1, keepdims=True)) # subtract max to avoid overflow and help with numerical stability\n",
    "        self.output = exp / np.sum(exp, axis=-1, keepdims=True)\n",
    "        return self.output\n",
    "    \n",
    "    def back(self, grad):\n",
    "        # here we assume that cross entropy loss is used, so the derivative of both is just the output - target\n",
    "        # it's more efficient to combine the softmax and cross entropy loss into one function\n",
    "        # otherwise, we need to calculate the Jacobian matrix of the softmax function as follows below\n",
    "        return grad \n",
    "                    \n",
    "        # print(\"output shape: \",self.output.shape) \n",
    "        # print(\"grad shape: \", grad.shape)  \n",
    "        batch_size = self.output.shape[0]\n",
    "        num_classes = self.output.shape[1]\n",
    "        \n",
    "        # Initialize a 3D Jacobian tensor\n",
    "        # to deal with handling batches of grads, for each grad in the batch, we need to calculate the Jacobian matrix\n",
    "        # the Jacobian matrix is a square matrix with the same size as the number of output classes\n",
    "        jacobian_tensor = np.zeros((batch_size, num_classes, num_classes))\n",
    "        # print(\"jacobian_tensor shape: \", jacobian_tensor.shape)\n",
    "        \n",
    "        # Calculate the Jacobian matrix for each grad in the batch\n",
    "        for i in range(batch_size):\n",
    "            s = self.output[i].reshape(-1, 1)\n",
    "            jacobian_matrix = np.diagflat(s) - np.dot(s, s.T)\n",
    "            jacobian_tensor[i] = jacobian_matrix\n",
    "            # if i == 0:\n",
    "            #     print(\"s shape: \", s.shape)\n",
    "            #     print(\"jacobian_matrix shape: \", jacobian_matrix.shape)\n",
    "\n",
    "        \n",
    "        # Multiply each Jacobian matrix with the corresponding gradient vector to get the vector of partial derivatives of the output with respect to each input\n",
    "        grad_output = np.empty_like(self.output)\n",
    "        for i in range(batch_size):\n",
    "            grad_output[i] = np.dot(jacobian_tensor[i], grad[i])\n",
    "        \n",
    "        return grad_output\n",
    "    \n",
    "    def __str__(self):\n",
    "        return self.__class__.__name__\n",
    "    \n",
    "class Relu(Module):\n",
    "    \"\"\"Relu activation function\"\"\"\n",
    "    def __call__(self, input):\n",
    "        self.output = np.maximum(0, input) # element-wise relu, 0 if input < 0, otherwise input\n",
    "        return self.output\n",
    "    \n",
    "    def back(self, grad):\n",
    "        return grad * (self.output > 0) # derevative of relu is 1 if input > 0, otherwise 0\n",
    "    \n",
    "    def __str__(self):\n",
    "        return self.__class__.__name__\n",
    "    \n",
    "class Linear(Module):\n",
    "    \"\"\"Linear acriavation function\"\"\"\n",
    "    def __call__(self, input):\n",
    "        self.output = input\n",
    "        return self.output\n",
    "\n",
    "    def back(self, grad):\n",
    "        return grad\n",
    "    \n",
    "    def __str__(self):\n",
    "        return self.__class__.__name__"
   ]
  },
  {
   "cell_type": "markdown",
   "metadata": {},
   "source": [
    "#### 2.4 Layer"
   ]
  },
  {
   "cell_type": "code",
   "execution_count": 78,
   "metadata": {},
   "outputs": [],
   "source": [
    "class Parameter:\n",
    "    \"\"\"Parameter class for NN parameters\"\"\"\n",
    "    def __init__(self, data):\n",
    "        self.data = data\n",
    "        self.grad = np.zeros_like(data)\n",
    "        #self.reset()\n",
    "\n",
    "    def reset(self):\n",
    "        self.grad = np.zeros_like(self.data)"
   ]
  },
  {
   "cell_type": "code",
   "execution_count": 79,
   "metadata": {},
   "outputs": [],
   "source": [
    "class Dense(Module):\n",
    "    \"\"\"Dense layer\"\"\"\n",
    "    def __init__(self, input_size, output_size, activation:str):\n",
    "        self.weights = Parameter(np.random.randn(input_size, output_size) * 0.01) # initialization with small random values\n",
    "        self.bias = Parameter(np.zeros(output_size)) # initialization with zeros\n",
    "        self.activation = self.set_activation(activation) # set the activation function acording to the input string\n",
    "        \n",
    "    def __call__(self, input):\n",
    "        self.input = input\n",
    "        self.output = np.dot(input, self.weights.data) + self.bias.data\n",
    "\n",
    "        self.output = self.activation(self.output)\n",
    "\n",
    "        return self.output\n",
    "    \n",
    "    def back(self, grad):\n",
    "        grad = self.activation.back(grad) # backpropagate through the activation function first\n",
    "        \n",
    "        # calculate the gradients for the weights and bias\n",
    "        self.weights.grad = np.dot(self.input.T, grad)\n",
    "        self.bias.grad = np.sum(grad, axis=0)\n",
    "        return np.dot(grad, self.weights.data.T)\n",
    "    \n",
    "    def parameters(self):\n",
    "        return [self.weights, self.bias]\n",
    "    \n",
    "    def set_activation(self, activation):\n",
    "        if activation == 'relu':\n",
    "            return Relu()\n",
    "        elif activation == 'sigmoid':\n",
    "            return Sigmoid()\n",
    "        elif activation == 'softmax':\n",
    "            return Softmax()\n",
    "        else:\n",
    "            error_msg = 'Invalid / not implemented activation function: ' + str(activation)\n",
    "            error_msg += '\\nValid activation functions: relu, sigmoid, softmax'\n",
    "            raise ValueError(error_msg)\n",
    "\n",
    "    def __str__(self):\n",
    "        return self.__class__.__name__ + '(in=' + str(self.weights.data.shape[0]) + ', out=' + str(self.weights.data.shape[1]) + str(', activation=' + str(self.activation)) + ')' if self.activation else ')'"
   ]
  },
  {
   "cell_type": "markdown",
   "metadata": {},
   "source": [
    "#### 2.5 Model"
   ]
  },
  {
   "cell_type": "code",
   "execution_count": 80,
   "metadata": {},
   "outputs": [],
   "source": [
    "class Model(Module):\n",
    "    \"\"\"Simple model\"\"\"\n",
    "    def __init__(self):\n",
    "        self.set_layers([Dense(64, 32, activation=\"sigmoid\"),\n",
    "                        Dense(32, 10, activation=\"softmax\")]) # default layers\n",
    "    \n",
    "    def __call__(self, input):\n",
    "        for layer in self.__layers:\n",
    "            input = layer(input)\n",
    "        return input\n",
    "    \n",
    "    def back(self, grad):\n",
    "        # backpropagate through all layers in reverse order\n",
    "        for layer in reversed(self.__layers):\n",
    "            grad = layer.back(grad)\n",
    "        return grad\n",
    "    \n",
    "    def parameters(self):\n",
    "        params = []\n",
    "        for layer in self.__layers:\n",
    "            params.extend(layer.parameters())\n",
    "        return params\n",
    "    \n",
    "    def zero_grad(self):\n",
    "        # reset the gradients of all parameters\n",
    "        for param in self.parameters():\n",
    "            param.reset()\n",
    "\n",
    "    def set_layers(self, layers):\n",
    "        # set the layers of the model\n",
    "        self.__layers = layers\n",
    "    \n",
    "    def __str__(self):\n",
    "        total_params = sum(np.prod(param.data.shape) for layer in self.__layers for param in layer.parameters())\n",
    "        return \"Model(\\n  \" + \"\\n  \".join([str(layer) for layer in self.__layers]) + \"\\n), Param count: \" + str(total_params)"
   ]
  },
  {
   "cell_type": "markdown",
   "metadata": {},
   "source": [
    "#### 2.6 CCE"
   ]
  },
  {
   "cell_type": "code",
   "execution_count": 81,
   "metadata": {},
   "outputs": [],
   "source": [
    "class CCE:\n",
    "    \"\"\"Categorical cross-entropy loss\"\"\"\n",
    "    \n",
    "    def __call__(self, y_pred, y_true):\n",
    "        # Clip prediction to avoid log(0) error\n",
    "        y_pred = np.clip(y_pred, 1e-9, 1. - 1e-9)\n",
    "        self.y_pred = y_pred\n",
    "        self.y_true = y_true\n",
    "        return -np.sum(y_true * np.log(y_pred))\n",
    "    \n",
    "    def back(self):\n",
    "        return self.y_pred - self.y_true"
   ]
  },
  {
   "cell_type": "code",
   "execution_count": 82,
   "metadata": {},
   "outputs": [],
   "source": [
    "# test forward pass\n",
    "model = Model()\n",
    "cce = CCE()\n",
    "x, y = next(train_data_gen)\n",
    "output = model(x)\n",
    "assert output.shape == (10, 10)\n",
    "\n",
    "# test backward pass\n",
    "grad = cce(output, y)\n",
    "grad = model.back(grad)\n",
    "assert grad.shape == (10, 64)"
   ]
  },
  {
   "cell_type": "code",
   "execution_count": 83,
   "metadata": {},
   "outputs": [
    {
     "name": "stdout",
     "output_type": "stream",
     "text": [
      "Model(\n",
      "  Dense(in=64, out=32, activation=Sigmoid)\n",
      "  Dense(in=32, out=10, activation=Softmax)\n",
      "), Param count: 2410\n"
     ]
    }
   ],
   "source": [
    "print(model)"
   ]
  },
  {
   "cell_type": "markdown",
   "metadata": {},
   "source": [
    "#### 3.6 Training"
   ]
  },
  {
   "cell_type": "code",
   "execution_count": 84,
   "metadata": {},
   "outputs": [],
   "source": [
    "class Optimizer:\n",
    "    \"\"\"Abstract optimizer class\"\"\"\n",
    "    def __init__(self, parameters):\n",
    "        self.parameters = parameters\n",
    "    \n",
    "    def step(self):\n",
    "        raise NotImplementedError\n",
    "\n",
    "class SGD(Optimizer):\n",
    "    \"\"\"Stochastic gradient descent optimizer\"\"\"\n",
    "    def __init__(self, parameters, lr=1e-2):\n",
    "        super().__init__(parameters)\n",
    "        self.lr = lr\n",
    "    \n",
    "    def step(self):\n",
    "        for param in self.parameters():\n",
    "            param.data -= self.lr * param.grad"
   ]
  },
  {
   "cell_type": "code",
   "execution_count": 85,
   "metadata": {},
   "outputs": [],
   "source": [
    "# calculate the accuracy of the model on the given data\n",
    "def accuracy(model, data):\n",
    "    total = 0\n",
    "    correct = 0\n",
    "    for x, y in data:\n",
    "        output = model(x)\n",
    "        correct += np.sum(np.argmax(output, axis=-1) == np.argmax(y, axis=-1))\n",
    "        total += len(x)\n",
    "    return correct/total\n",
    "\n",
    "def training_step(model, loss, optimizer, x, y):\n",
    "    output = model(x)\n",
    "    loss_result = loss(output, y)\n",
    "    grad = loss.back()\n",
    "    model.back(grad)\n",
    "    optimizer.step()\n",
    "    model.zero_grad()\n",
    "    # optimizer.step()\n",
    "    \n",
    "    return loss_result\n",
    "\n",
    "def training_loop(model, loss, optimizer, train_data, test_data, epochs, minibatch_size):\n",
    "    # lists to collect epoch results\n",
    "    epoch_accuracies_train = []\n",
    "    epoch_accuracies_test = []\n",
    "    epoch_losses = []\n",
    "    for epoch in range(epochs):\n",
    "        train_data_gen = data_generator(train_data, minibatch_size)\n",
    "        \n",
    "        # Training\n",
    "        losses = []\n",
    "        for x, y in train_data_gen:\n",
    "            loss_result = training_step(model, loss, optimizer, x, y)\n",
    "            losses.append(loss_result)\n",
    "        epoch_loss = np.mean(losses)\n",
    "\n",
    "        # Testing on test data\n",
    "        test_data_gen = data_generator(test_data, minibatch_size)\n",
    "        accuracy_test = accuracy(model, test_data_gen)\n",
    "\n",
    "        # Testing on train data\n",
    "        train_data_gen = data_generator(train_data, minibatch_size)\n",
    "        accuracy_train = accuracy(model, train_data_gen)\n",
    "\n",
    "        # Print epoch results\n",
    "        print(f'Epoch: {epoch+1}, Accuracy_test: {accuracy_test:.3f}, Accuracy_train: {accuracy_train:.3f}, Loss: {epoch_loss:.3f}')\n",
    "\n",
    "        # collect epoch results\n",
    "        epoch_accuracies_test.append(accuracy_test)\n",
    "        epoch_accuracies_train.append(accuracy_train)\n",
    "        epoch_losses.append(epoch_loss)\n",
    "\n",
    "    return epoch_accuracies_test, epoch_accuracies_train, epoch_losses\n"
   ]
  },
  {
   "cell_type": "code",
   "execution_count": 86,
   "metadata": {},
   "outputs": [],
   "source": [
    "import matplotlib.pyplot as plt\n",
    "\n",
    "def plot_training_results(accuracy_test, accuracy_train, losses, max_steps=20):\n",
    "    # Create a figure and a set of subplots\n",
    "    epoch_idx = range(1,len(accuracy_test)+1)\n",
    "    x_ticks = list(range(1, len(accuracy_test) + 1))\n",
    "    x_ticks = x_ticks[::len(x_ticks)//max_steps + 1]\n",
    "    \n",
    "    fig, axs = plt.subplots(2, 1, figsize=(10, 8))\n",
    "\n",
    "    def plot(ax, data, title, y_label,label, color):\n",
    "        ax.plot(epoch_idx, data, label=label, color=color)\n",
    "        ax.set_title(title)\n",
    "        ax.set_xlabel('Epochs')\n",
    "        ax.set_ylabel(y_label)\n",
    "        ax.set_xticks(x_ticks)\n",
    "        ax.legend()\n",
    "        ax.grid(True)\n",
    "    \n",
    "    # Plotting training loss\n",
    "    plot(axs[0], losses, 'Training Loss Over Epochs', 'Loss', 'Loss Over Epoch ', 'red')\n",
    "    plot(axs[1], accuracy_test, 'Training Accuracy Over Epochs', 'Accuracy', 'Test Accuracy', 'blue')\n",
    "    plot(axs[1], accuracy_train, 'Training Accuracy Over Epochs', 'Accuracy', 'Train Accuracy', 'green')\n",
    "    \n",
    "    plt.tight_layout()\n",
    "    plt.show()"
   ]
  },
  {
   "cell_type": "code",
   "execution_count": 87,
   "metadata": {},
   "outputs": [
    {
     "name": "stdout",
     "output_type": "stream",
     "text": [
      "Model(\n",
      "  Dense(in=64, out=32, activation=Sigmoid)\n",
      "  Dense(in=32, out=10, activation=Softmax)\n",
      "), Param count: 2410\n",
      "Epoch: 1, Accuracy_test: 0.599, Accuracy_train: 0.589, Loss: 35.089\n",
      "Epoch: 2, Accuracy_test: 0.873, Accuracy_train: 0.897, Loss: 16.927\n"
     ]
    },
    {
     "name": "stdout",
     "output_type": "stream",
     "text": [
      "Epoch: 3, Accuracy_test: 0.900, Accuracy_train: 0.932, Loss: 7.345\n",
      "Epoch: 4, Accuracy_test: 0.917, Accuracy_train: 0.950, Loss: 4.498\n",
      "Epoch: 5, Accuracy_test: 0.928, Accuracy_train: 0.959, Loss: 3.430\n",
      "Epoch: 6, Accuracy_test: 0.935, Accuracy_train: 0.964, Loss: 2.862\n",
      "Epoch: 7, Accuracy_test: 0.941, Accuracy_train: 0.969, Loss: 2.497\n",
      "Epoch: 8, Accuracy_test: 0.942, Accuracy_train: 0.974, Loss: 2.249\n",
      "Epoch: 9, Accuracy_test: 0.944, Accuracy_train: 0.974, Loss: 2.047\n",
      "Epoch: 10, Accuracy_test: 0.947, Accuracy_train: 0.975, Loss: 1.900\n",
      "Epoch: 11, Accuracy_test: 0.947, Accuracy_train: 0.979, Loss: 1.780\n",
      "Epoch: 12, Accuracy_test: 0.947, Accuracy_train: 0.980, Loss: 1.659\n",
      "Epoch: 13, Accuracy_test: 0.949, Accuracy_train: 0.978, Loss: 1.573\n",
      "Epoch: 14, Accuracy_test: 0.949, Accuracy_train: 0.984, Loss: 1.498\n",
      "Epoch: 15, Accuracy_test: 0.950, Accuracy_train: 0.984, Loss: 1.421\n",
      "Epoch: 16, Accuracy_test: 0.952, Accuracy_train: 0.984, Loss: 1.360\n",
      "Epoch: 17, Accuracy_test: 0.955, Accuracy_train: 0.984, Loss: 1.296\n",
      "Epoch: 18, Accuracy_test: 0.953, Accuracy_train: 0.987, Loss: 1.240\n",
      "Epoch: 19, Accuracy_test: 0.949, Accuracy_train: 0.986, Loss: 1.194\n",
      "Epoch: 20, Accuracy_test: 0.950, Accuracy_train: 0.984, Loss: 1.140\n"
     ]
    }
   ],
   "source": [
    "# Train the model\n",
    "model = Model()\n",
    "\n",
    "# there are 3 configurations, to show different aspects of training\n",
    "configurations = 1\n",
    "\n",
    "if configurations == 1: # simple small model, already does the job pretty well\n",
    "  model.set_layers([Dense(64, 32, activation=\"sigmoid\"),\n",
    "                  Dense(32, 10, activation=\"softmax\")])\n",
    "  \n",
    "elif configurations == 2: # bigger model with ReLU activation, works with lower learning rate(0.01)\n",
    "  model.set_layers([Dense(64, 256, activation=\"relu\"),\n",
    "                  Dense(256, 128, activation=\"relu\"),\n",
    "                    Dense(128, 10, activation=\"softmax\")])\n",
    "  \n",
    "elif configurations == 3: # biger model with sigmoid activation, works with higher learning rate(0.1) / more epochs due to sigmoid in the hidden layers \n",
    "                          # ( gradient vanishing problem -- >here the gradient already are getting too smal, hence the higher learning rate )\n",
    "\n",
    "  model.set_layers([Dense(64, 256, activation=\"sigmoid\"),\n",
    "                    Dense(256, 128, activation=\"sigmoid\"),\n",
    "                      Dense(128, 10, activation=\"softmax\")])\n",
    "\n",
    "print(model)\n",
    "\n",
    "loss = CCE()\n",
    "optimizer = SGD(model.parameters, lr=1e-2)\n",
    "\n",
    "accuracy_test, accuracy_train, losses = training_loop(model, loss, optimizer, train_data, test_data, epochs=20, minibatch_size=16)"
   ]
  },
  {
   "cell_type": "code",
   "execution_count": 88,
   "metadata": {},
   "outputs": [
    {
     "data": {
      "image/png": "[encoded data removed]",
      "text/plain": [
       "<Figure size 1000x800 with 2 Axes>"
      ]
     },
     "metadata": {},
     "output_type": "display_data"
    }
   ],
   "source": [
    "# plot training results\n",
    "plot_training_results(accuracy_test, accuracy_train, losses)"
   ]
  },
  {
   "cell_type": "code",
   "execution_count": 91,
   "metadata": {},
   "outputs": [
    {
     "name": "stdout",
     "output_type": "stream",
     "text": [
      "Data point 1:\n",
      "Prediction: 5\n",
      "Actual target: 5\n",
      "\n",
      "Data point 2:\n",
      "Prediction: 6\n",
      "Actual target: 6\n",
      "\n",
      "Data point 3:\n",
      "Prediction: 8\n",
      "Actual target: 8\n",
      "\n",
      "Data point 4:\n",
      "Prediction: 5\n",
      "Actual target: 5\n",
      "\n",
      "Data point 5:\n",
      "Prediction: 8\n",
      "Actual target: 8\n",
      "\n",
      "Data point 6:\n",
      "Prediction: 0\n",
      "Actual target: 0\n",
      "\n",
      "Data point 7:\n",
      "Prediction: 9\n",
      "Actual target: 9\n",
      "\n",
      "Data point 8:\n",
      "Prediction: 1\n",
      "Actual target: 1\n",
      "\n",
      "Data point 9:\n",
      "Prediction: 3\n",
      "Actual target: 3\n",
      "\n",
      "Data point 10:\n",
      "Prediction: 9\n",
      "Actual target: 9\n",
      "\n"
     ]
    }
   ],
   "source": [
    "# show some predictions and the actual targets\n",
    "test_data_subset = test_data[:10]\n",
    "for i in range(10):\n",
    "    pred = model(test_data_subset[i][0])\n",
    "    print(f\"Data point {i+1}:\")\n",
    "    print(f\"Prediction: {np.argmax(pred)}\")\n",
    "    print(f\"Actual target: {np.argmax(test_data_subset[i][1])}\")\n",
    "    print()"
   ]
  },
  {
   "cell_type": "code",
   "execution_count": null,
   "metadata": {},
   "outputs": [],
   "source": []
  }
 ],
 "metadata": {
  "kernelspec": {
   "display_name": "Python 3",
   "language": "python",
   "name": "python3"
  },
  "language_info": {
   "codemirror_mode": {
    "name": "ipython",
    "version": 3
   },
   "file_extension": ".py",
   "mimetype": "text/x-python",
   "name": "python",
   "nbconvert_exporter": "python",
   "pygments_lexer": "ipython3",
   "version": "3.11.5"
  }
 },
 "nbformat": 4,
 "nbformat_minor": 2
}
