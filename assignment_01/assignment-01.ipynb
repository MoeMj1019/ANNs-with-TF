{
 "cells": [
  {
   "cell_type": "code",
   "execution_count": 199,
   "metadata": {},
   "outputs": [],
   "source": [
    "import numpy as np"
   ]
  },
  {
   "cell_type": "markdown",
   "metadata": {},
   "source": [
    "#### Loading Data"
   ]
  },
  {
   "cell_type": "code",
   "execution_count": 200,
   "metadata": {},
   "outputs": [],
   "source": [
    "# import csv\n",
    "import urllib.request\n",
    "import os\n",
    "\n",
    "# Check if data is already there and only download if it isnt\n",
    "if not os.path.exists('optdigits.tra') and not os.path.exists('optdigits.tes'):\n",
    "\n",
    "    # URLs for the dataset\n",
    "    train_url = \"https://archive.ics.uci.edu/ml/machine-learning-databases/optdigits/optdigits.tra\"\n",
    "    test_url = \"https://archive.ics.uci.edu/ml/machine-learning-databases/optdigits/optdigits.tes\"\n",
    "\n",
    "    # Download and save the training data\n",
    "    urllib.request.urlretrieve(train_url, 'optdigits.tra')\n",
    "\n",
    "    # Download and save the test data\n",
    "    urllib.request.urlretrieve(test_url, 'optdigits.tes')"
   ]
  },
  {
   "cell_type": "code",
   "execution_count": 201,
   "metadata": {},
   "outputs": [],
   "source": [
    "def load_data(filename):\n",
    "    data = np.loadtxt(filename, delimiter=',')\n",
    "    inputs = (data[:, :-1] - 8) / 8.0 # Normalize the inputs between -1 and 1\n",
    "    targets = np.eye(10)[data[:, -1].astype(int)]  # One-hot encoding\n",
    "    return list(zip(inputs, targets))\n",
    "\n",
    "# Load the training and test data\n",
    "train_data = load_data('optdigits.tra')\n",
    "test_data = load_data('optdigits.tes')"
   ]
  },
  {
   "cell_type": "code",
   "execution_count": 202,
   "metadata": {},
   "outputs": [
    {
     "data": {
      "text/plain": [
       "(array([-1.   , -0.875, -0.25 ,  0.875,  0.5  , -0.875, -1.   , -1.   ,\n",
       "        -1.   , -0.125,  1.   , -0.25 , -0.25 ,  0.25 , -1.   , -1.   ,\n",
       "        -1.   ,  0.   ,  1.   , -0.75 , -1.   ,  0.375, -0.75 , -1.   ,\n",
       "        -1.   , -0.375,  1.   , -0.625, -1.   , -0.375, -0.125, -1.   ,\n",
       "        -1.   , -0.125,  0.625, -0.625, -1.   ,  0.   , -0.125, -1.   ,\n",
       "        -1.   , -0.5  ,  0.5  , -1.   , -0.875,  0.625, -0.375, -1.   ,\n",
       "        -1.   , -1.   ,  0.75 ,  0.125,  0.875,  0.125, -1.   , -1.   ,\n",
       "        -1.   , -1.   , -0.25 ,  0.75 , -0.125, -0.875, -1.   , -1.   ]),\n",
       " array([1., 0., 0., 0., 0., 0., 0., 0., 0., 0.]))"
      ]
     },
     "execution_count": 202,
     "metadata": {},
     "output_type": "execute_result"
    }
   ],
   "source": [
    "train_data[0]"
   ]
  },
  {
   "cell_type": "code",
   "execution_count": 203,
   "metadata": {},
   "outputs": [
    {
     "data": {
      "image/png": "[encoded data removed]",
      "text/plain": [
       "<Figure size 640x480 with 5 Axes>"
      ]
     },
     "metadata": {},
     "output_type": "display_data"
    }
   ],
   "source": [
    "import matplotlib.pyplot as plt\n",
    "\n",
    "# Function to draw images\n",
    "def draw_images(data, num_images):\n",
    "    for index, (image, label) in enumerate(data[:num_images]):\n",
    "        plt.subplot(1, num_images, index + 1)\n",
    "        plt.axis('off')\n",
    "        plt.imshow(image.reshape((8,8)), cmap=plt.cm.gray_r)\n",
    "        label = np.argmax(label)\n",
    "        plt.title('Label: %i' % label, fontsize = 12)\n",
    "    plt.show()\n",
    "\n",
    "# Draw some images from the training data\n",
    "draw_images(train_data, 5)"
   ]
  },
  {
   "cell_type": "code",
   "execution_count": 204,
   "metadata": {},
   "outputs": [
    {
     "name": "stdout",
     "output_type": "stream",
     "text": [
      "3823\n",
      "383\n",
      "9\n"
     ]
    }
   ],
   "source": [
    "import random \n",
    "\n",
    "def data_generator(data, minibatch_size):\n",
    "    random.shuffle(data)\n",
    "    for i in range(0, len(data), minibatch_size):\n",
    "        minibatch = data[i:i+minibatch_size]\n",
    "        inputs = np.array([item[0] for item in minibatch])\n",
    "        targets = np.array([item[1] for item in minibatch])\n",
    "        yield inputs, targets\n",
    "\n",
    "# Create a data generator with minibatch size of 10\n",
    "train_data_gen = data_generator(train_data, 10)\n",
    "\n",
    "l = [data for data in train_data_gen]\n",
    "print(len(train_data))\n",
    "print(len(l))\n",
    "print(len(train_data)//len(l))\n",
    "\n",
    "train_data_gen = data_generator(train_data, 10)\n"
   ]
  },
  {
   "cell_type": "markdown",
   "metadata": {},
   "source": [
    "#### 2.2, 2.3 Activation Functions"
   ]
  },
  {
   "cell_type": "code",
   "execution_count": 205,
   "metadata": {},
   "outputs": [],
   "source": [
    "class Module:\n",
    "    \"\"\"Abstract module class that NN are composed off\"\"\"\n",
    "    def __call__(self, input):\n",
    "        # Forward pass/inference\n",
    "        raise NotImplementedError\n",
    "    \n",
    "    def back(self, grad):\n",
    "        # Backward pass/derivative\n",
    "        raise NotImplementedError\n",
    "\n",
    "    def parameters(self):\n",
    "        # Return list of parameters\n",
    "        return []\n",
    "    \n",
    "    def __str__(self):\n",
    "        return self.__class__.__name__ + '()'"
   ]
  },
  {
   "cell_type": "code",
   "execution_count": 206,
   "metadata": {},
   "outputs": [],
   "source": [
    "class Sigmoid(Module):\n",
    "    \"\"\"Sigmoid activation function\"\"\"\n",
    "    def __call__(self, input):\n",
    "        self.output = 1 / (1 + np.exp(-input))\n",
    "        return self.output\n",
    "    \n",
    "    def back(self, grad):\n",
    "        return grad * self.output * (1 - self.output)\n",
    "    \n",
    "    def __str__(self):\n",
    "        return self.__class__.__name__"
   ]
  },
  {
   "cell_type": "code",
   "execution_count": 207,
   "metadata": {},
   "outputs": [],
   "source": [
    "class Softmax(Module):\n",
    "    \"\"\"Softmax activation function\"\"\"\n",
    "    def __call__(self, input):\n",
    "        exp = np.exp(input - np.max(input, axis=-1, keepdims=True))\n",
    "        self.output = exp / np.sum(exp, axis=-1, keepdims=True)\n",
    "        return self.output\n",
    "    \n",
    "    def back(self, grad):\n",
    "        return grad * self.output * (1 - self.output)\n",
    "    \n",
    "    def __str__(self):\n",
    "        return self.__class__.__name__"
   ]
  },
  {
   "cell_type": "markdown",
   "metadata": {},
   "source": [
    "#### 2.4 Layer"
   ]
  },
  {
   "cell_type": "code",
   "execution_count": 208,
   "metadata": {},
   "outputs": [],
   "source": [
    "class Parameter:\n",
    "    \"\"\"Parameter class for NN parameters\"\"\"\n",
    "    def __init__(self, data):\n",
    "        self.data = data\n",
    "        self.grad = np.zeros_like(data)\n",
    "        #self.reset()\n",
    "\n",
    "    def reset(self):\n",
    "        self.grad = np.zeros_like(self.data)"
   ]
  },
  {
   "cell_type": "code",
   "execution_count": 209,
   "metadata": {},
   "outputs": [],
   "source": [
    "class Linear(Module):\n",
    "    \"\"\"Linear layer\"\"\"\n",
    "    def __init__(self, input_size, output_size, activation=None):\n",
    "        self.weights = Parameter(np.random.randn(input_size, output_size) * 0.01)\n",
    "        self.bias = Parameter(np.zeros(output_size))\n",
    "        self.activation = activation\n",
    "    \n",
    "    def __call__(self, input):\n",
    "        self.input = input\n",
    "        self.output = np.dot(input, self.weights.data) + self.bias.data\n",
    "\n",
    "        self.output = self.activation(self.output) if self.activation else self.output\n",
    "\n",
    "        return self.output\n",
    "    \n",
    "    def back(self, grad):\n",
    "        grad = self.activation.back(grad) if self.activation else grad\n",
    "        \n",
    "        self.weights.grad = np.dot(self.input.T, grad)\n",
    "        self.bias.grad = np.sum(grad, axis=0)\n",
    "        return np.dot(grad, self.weights.data.T)\n",
    "    \n",
    "    def parameters(self):\n",
    "        return [self.weights, self.bias]\n",
    "\n",
    "    def __str__(self):\n",
    "        return self.__class__.__name__ + '(in=' + str(self.weights.data.shape[0]) + ', out=' + str(self.weights.data.shape[1]) + str(', activation=' + str(self.activation)) + ')' if self.activation else ')'"
   ]
  },
  {
   "cell_type": "markdown",
   "metadata": {},
   "source": [
    "#### 2.5 Model"
   ]
  },
  {
   "cell_type": "code",
   "execution_count": 210,
   "metadata": {},
   "outputs": [],
   "source": [
    "class Model(Module):\n",
    "    \"\"\"Simple model\"\"\"\n",
    "    def __init__(self):\n",
    "        self.layers = [Linear(64, 32, activation=Sigmoid()),\n",
    "                       Linear(32, 10, activation=Softmax())]\n",
    "    \n",
    "    def __call__(self, input):\n",
    "        for layer in self.layers:\n",
    "            input = layer(input)\n",
    "        return input\n",
    "    \n",
    "    def back(self, grad):\n",
    "        for layer in reversed(self.layers):\n",
    "            grad = layer.back(grad)\n",
    "        return grad\n",
    "    \n",
    "    def parameters(self):\n",
    "        params = []\n",
    "        for layer in self.layers:\n",
    "            params.extend(layer.parameters())\n",
    "        return params\n",
    "    \n",
    "    def zero_grad(self):\n",
    "        for param in self.parameters():\n",
    "            param.reset()\n",
    "\n",
    "    def __str__(self):\n",
    "        total_params = sum(np.prod(param.data.shape) for layer in self.layers for param in layer.parameters())\n",
    "        return \"Model(\\n  \" + \"\\n  \".join([str(layer) for layer in self.layers]) + \"\\n), Param count: \" + str(total_params)"
   ]
  },
  {
   "cell_type": "markdown",
   "metadata": {},
   "source": [
    "#### 2.6 CCE"
   ]
  },
  {
   "cell_type": "code",
   "execution_count": 211,
   "metadata": {},
   "outputs": [],
   "source": [
    "# import torch.nn as nn\n",
    "\n",
    "class CCE:\n",
    "    \"\"\"Categorical cross-entropy loss\"\"\"\n",
    "    \n",
    "    def __call__(self, y_pred, y_true):\n",
    "        # Clip prediction to avoid log(0) error\n",
    "        y_pred = np.clip(y_pred, 1e-9, 1. - 1e-9)\n",
    "        # Compute categorical cross-entropy loss\n",
    "        self.y_pred = y_pred\n",
    "        self.y_true = y_true\n",
    "        return -np.sum(y_true * np.log(y_pred))\n",
    "    \n",
    "    def back(self):\n",
    "        return self.y_pred - self.y_true"
   ]
  },
  {
   "cell_type": "code",
   "execution_count": 212,
   "metadata": {},
   "outputs": [],
   "source": [
    "# test forward pass\n",
    "model = Model()\n",
    "cce = CCE()\n",
    "x, y = next(train_data_gen)\n",
    "output = model(x)\n",
    "assert output.shape == (10, 10)\n",
    "\n",
    "# test backward pass\n",
    "grad = cce(output, y)\n",
    "grad = model.back(grad)\n",
    "assert grad.shape == (10, 64)"
   ]
  },
  {
   "cell_type": "code",
   "execution_count": 213,
   "metadata": {},
   "outputs": [
    {
     "name": "stdout",
     "output_type": "stream",
     "text": [
      "Model(\n",
      "  Linear(in=64, out=32, activation=Sigmoid)\n",
      "  Linear(in=32, out=10, activation=Softmax)\n",
      "), Param count: 2410\n"
     ]
    }
   ],
   "source": [
    "print(model)"
   ]
  },
  {
   "cell_type": "markdown",
   "metadata": {},
   "source": [
    "#### 3.6 Training"
   ]
  },
  {
   "cell_type": "code",
   "execution_count": 214,
   "metadata": {},
   "outputs": [],
   "source": [
    "class Optimizer:\n",
    "    \"\"\"Abstract optimizer class\"\"\"\n",
    "    def __init__(self, parameters):\n",
    "        self.parameters = parameters\n",
    "    \n",
    "    def step(self):\n",
    "        raise NotImplementedError\n",
    "\n",
    "class SGD(Optimizer):\n",
    "    \"\"\"Stochastic gradient descent optimizer\"\"\"\n",
    "    def __init__(self, parameters, lr=1e-2):\n",
    "        super().__init__(parameters)\n",
    "        self.lr = lr\n",
    "    \n",
    "    def step(self):\n",
    "        for param in self.parameters():\n",
    "            #print(\"Data\", param.data)\n",
    "            #print(\"Grad\", param.grad)\n",
    "            param.data -= self.lr * param.grad"
   ]
  },
  {
   "cell_type": "code",
   "execution_count": 215,
   "metadata": {},
   "outputs": [],
   "source": [
    "def training_step(model, loss, optimizer, x, y):\n",
    "    output = model(x)\n",
    "    loss_result = loss(output, y)\n",
    "    grad = loss.back()\n",
    "    model.back(grad)\n",
    "    optimizer.step()\n",
    "    model.zero_grad()\n",
    "    # optimizer.step()\n",
    "    \n",
    "    return loss_result\n",
    "\n",
    "def training_loop(model, loss, optimizer, train_data, test_data, epochs, minibatch_size):\n",
    "    epoch_accuracies = []\n",
    "    epoch_losses = []\n",
    "    for epoch in range(epochs):\n",
    "        train_data_gen = data_generator(train_data, minibatch_size)\n",
    "        test_data_gen = data_generator(test_data, minibatch_size)\n",
    "        \n",
    "        # Training\n",
    "        losses = []\n",
    "        for x, y in train_data_gen:\n",
    "            loss_result = training_step(model, loss, optimizer, x, y)\n",
    "            losses.append(loss_result)\n",
    "        epoch_loss = np.mean(losses)\n",
    "\n",
    "        # Testing\n",
    "        total = 0\n",
    "        correct = 0\n",
    "        for x, y in test_data_gen:\n",
    "            output = model(x)\n",
    "            correct += np.sum(np.argmax(output, axis=-1) == np.argmax(y, axis=-1))\n",
    "            total += len(x)\n",
    "        print(f'Epoch: {epoch+1}, Accuracy: {correct/total:.3f}, Loss: {epoch_loss:.3f}')\n",
    "        epoch_accuracies.append(correct/total)\n",
    "        epoch_losses.append(epoch_loss)\n",
    "\n",
    "    return epoch_accuracies, epoch_losses\n"
   ]
  },
  {
   "cell_type": "code",
   "execution_count": 216,
   "metadata": {},
   "outputs": [],
   "source": [
    "import matplotlib.pyplot as plt\n",
    "\n",
    "def plot_training_results(accuracies, losses, max_steps=20):\n",
    "    # Create a figure and a set of subplots\n",
    "    epoch_idx = range(1,len(accuracies)+1)\n",
    "    x_ticks = list(range(1, len(accuracies) + 1))\n",
    "    x_ticks = x_ticks[::len(x_ticks)//max_steps + 1]\n",
    "    \n",
    "    fig, axs = plt.subplots(2, 1, figsize=(10, 8))\n",
    "\n",
    "    # Plotting training loss\n",
    "    axs[0].plot(epoch_idx, losses, label='Training Loss', color='red')\n",
    "    axs[0].set_title('Training Loss Over Epochs')\n",
    "    axs[0].set_xlabel('Epochs')\n",
    "    axs[0].set_ylabel('Loss')\n",
    "    axs[0].set_xticks(x_ticks)\n",
    "    axs[0].legend()\n",
    "    axs[0].grid(True)\n",
    "\n",
    "    # Plotting training accuracy\n",
    "    axs[1].plot(epoch_idx, accuracies, label='Training Accuracy', color='blue')\n",
    "    axs[1].set_title('Training Accuracy Over Epochs')\n",
    "    axs[1].set_xlabel('Epochs')\n",
    "    axs[1].set_ylabel('Accuracy')\n",
    "    axs[1].set_xticks(x_ticks)\n",
    "    axs[1].legend()\n",
    "    axs[1].grid(True)\n",
    "\n",
    "    plt.tight_layout()\n",
    "    plt.show()"
   ]
  },
  {
   "cell_type": "code",
   "execution_count": 217,
   "metadata": {},
   "outputs": [
    {
     "name": "stdout",
     "output_type": "stream",
     "text": [
      "Epoch: 1, Accuracy: 0.478, Loss: 35.775\n",
      "Epoch: 2, Accuracy: 0.773, Loss: 17.294\n",
      "Epoch: 3, Accuracy: 0.836, Loss: 9.418\n",
      "Epoch: 4, Accuracy: 0.856, Loss: 5.857\n"
     ]
    },
    {
     "name": "stdout",
     "output_type": "stream",
     "text": [
      "Epoch: 5, Accuracy: 0.896, Loss: 4.244\n",
      "Epoch: 6, Accuracy: 0.939, Loss: 3.534\n",
      "Epoch: 7, Accuracy: 0.922, Loss: 3.093\n",
      "Epoch: 8, Accuracy: 0.938, Loss: 2.844\n",
      "Epoch: 9, Accuracy: 0.933, Loss: 2.516\n",
      "Epoch: 10, Accuracy: 0.944, Loss: 2.375\n",
      "Epoch: 11, Accuracy: 0.944, Loss: 2.268\n",
      "Epoch: 12, Accuracy: 0.943, Loss: 2.116\n",
      "Epoch: 13, Accuracy: 0.942, Loss: 2.002\n",
      "Epoch: 14, Accuracy: 0.944, Loss: 1.900\n",
      "Epoch: 15, Accuracy: 0.937, Loss: 1.888\n"
     ]
    }
   ],
   "source": [
    "# Train the model\n",
    "model = Model()\n",
    "model.layers = [Linear(64, 32, activation=Sigmoid()),\n",
    "                Linear(32, 10, activation=Softmax())]\n",
    "\n",
    "cce = CCE()\n",
    "optimizer = SGD(model.parameters, lr=1e-1)\n",
    "\n",
    "accuracies, losses = training_loop(model, cce, optimizer, train_data, test_data, epochs=15, minibatch_size=16)"
   ]
  },
  {
   "cell_type": "code",
   "execution_count": 218,
   "metadata": {},
   "outputs": [
    {
     "data": {
      "image/png": "[encoded data removed]",
      "text/plain": [
       "<Figure size 1000x800 with 2 Axes>"
      ]
     },
     "metadata": {},
     "output_type": "display_data"
    }
   ],
   "source": [
    "# plot training results\n",
    "plot_training_results(accuracies, losses)"
   ]
  },
  {
   "cell_type": "code",
   "execution_count": 219,
   "metadata": {},
   "outputs": [
    {
     "name": "stdout",
     "output_type": "stream",
     "text": [
      "Data point 1:\n",
      "Prediction: 7\n",
      "Actual target: 7\n",
      "\n",
      "Data point 2:\n",
      "Prediction: 8\n",
      "Actual target: 8\n",
      "\n",
      "Data point 3:\n",
      "Prediction: 0\n",
      "Actual target: 0\n",
      "\n",
      "Data point 4:\n",
      "Prediction: 9\n",
      "Actual target: 9\n",
      "\n",
      "Data point 5:\n",
      "Prediction: 1\n",
      "Actual target: 1\n",
      "\n",
      "Data point 6:\n",
      "Prediction: 8\n",
      "Actual target: 2\n",
      "\n",
      "Data point 7:\n",
      "Prediction: 1\n",
      "Actual target: 1\n",
      "\n",
      "Data point 8:\n",
      "Prediction: 6\n",
      "Actual target: 6\n",
      "\n",
      "Data point 9:\n",
      "Prediction: 8\n",
      "Actual target: 8\n",
      "\n",
      "Data point 10:\n",
      "Prediction: 3\n",
      "Actual target: 3\n",
      "\n"
     ]
    }
   ],
   "source": [
    "# show some predictions\n",
    "test_data_subset = test_data[:10]\n",
    "for i in range(10):\n",
    "    pred = model(test_data_subset[i][0])\n",
    "    print(f\"Data point {i+1}:\")\n",
    "    print(f\"Prediction: {np.argmax(pred)}\")\n",
    "    print(f\"Actual target: {np.argmax(test_data_subset[i][1])}\")\n",
    "    print()"
   ]
  },
  {
   "cell_type": "code",
   "execution_count": null,
   "metadata": {},
   "outputs": [],
   "source": []
  }
 ],
 "metadata": {
  "kernelspec": {
   "display_name": "Python 3",
   "language": "python",
   "name": "python3"
  },
  "language_info": {
   "codemirror_mode": {
    "name": "ipython",
    "version": 3
   },
   "file_extension": ".py",
   "mimetype": "text/x-python",
   "name": "python",
   "nbconvert_exporter": "python",
   "pygments_lexer": "ipython3",
   "version": "3.11.5"
  }
 },
 "nbformat": 4,
 "nbformat_minor": 2
}
