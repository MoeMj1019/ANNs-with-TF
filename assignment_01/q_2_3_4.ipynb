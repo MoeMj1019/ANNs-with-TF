{
 "cells": [
  {
   "cell_type": "code",
   "execution_count": 10,
   "metadata": {},
   "outputs": [
    {
     "name": "stdout",
     "output_type": "stream",
     "text": [
      "[0, 1, 4, 9, 16, 25, 36, 49, 64, 81]\n",
      "[0, 4, 16, 36, 64, 100, 144, 196, 256, 324]\n"
     ]
    }
   ],
   "source": [
    "# List comprehension\n",
    "\n",
    "l_squares = [x**2 for x in range(0,101)]\n",
    "l_squares_even = [x**2 for x in range(0,101) if x%2==0]\n",
    "\n",
    "print(l_squares[:10], l_squares_even[:10], sep='\\n')"
   ]
  },
  {
   "cell_type": "code",
   "execution_count": 6,
   "metadata": {},
   "outputs": [
    {
     "name": "stdout",
     "output_type": "stream",
     "text": [
      "meow \n",
      "meow meow \n",
      "meow meow meow meow \n",
      "meow meow meow meow meow meow meow meow \n",
      "meow meow meow meow meow meow meow meow meow meow meow meow meow meow meow meow \n",
      "meow meow meow meow meow meow meow meow meow meow meow meow meow meow meow meow meow meow meow meow meow meow meow meow meow meow meow meow meow meow meow meow \n"
     ]
    }
   ],
   "source": [
    "# generator\n",
    "def meows():\n",
    "    i = \"meow \"\n",
    "    while True:\n",
    "        yield i\n",
    "        i = i * 2\n",
    "\n",
    "for i in meows():\n",
    "    print(i)\n",
    "    if len(i) > 100:\n",
    "        break"
   ]
  },
  {
   "cell_type": "code",
   "execution_count": 11,
   "metadata": {},
   "outputs": [
    {
     "name": "stdout",
     "output_type": "stream",
     "text": [
      "[[ 0.46819553 -0.41167323 -1.62692503 -0.52134693 -0.71853101]\n",
      " [ 0.37863786 -0.90315639  1.70252607  0.37632331 -0.67620753]\n",
      " [ 1.07007746 -1.77175359  0.64048833 -0.60232185  0.49021123]\n",
      " [-0.45008361  0.34886965  0.0497027   0.43826962 -0.88015125]\n",
      " [-2.20387794 -1.15066296  0.49614383 -1.10315806  0.98983107]]\n",
      "[[ 0.21920706 42.         42.         42.         42.        ]\n",
      " [ 0.14336663 42.          2.89859502  0.14161923 42.        ]\n",
      " [ 1.14506578 42.          0.4102253  42.          0.24030705]\n",
      " [42.          0.12171003 42.          0.19208026 42.        ]\n",
      " [42.         42.          0.2461587  42.          0.97976554]]\n",
      "[42.          0.14161923 42.          0.19208026 42.        ]\n"
     ]
    }
   ],
   "source": [
    "# numpy \n",
    "import numpy as np\n",
    "random_normal = np.random.normal(0,1, size=(5,5))\n",
    "print(random_normal)\n",
    "random_normal = np.where(random_normal > 0.09, random_normal**2, 42)\n",
    "print(random_normal)\n",
    "\n",
    "print(random_normal[:,3])"
   ]
  },
  {
   "cell_type": "markdown",
   "metadata": {},
   "source": [
    "## Math\n",
    "\n",
    "f (x, z, a, b) := y = (4ax² + a) + 3 + σ(z) + (σ(b)²)   \n",
    "\n",
    "∂y/∂x = 8ax  \n",
    "∂y/∂z = σ(z) - ( 1 - σ(z) )  \n",
    "∂y/∂a = 4x² + 1  \n",
    "∂y/∂b = 2σ(b) * ( σ(b) - ( 1 - σ(b) ) ) = 2σ(b)² - 2σ(b) + 2σ(b)²  \n",
    "\n",
    "\n",
    "∇f w.r.t [x, z, a, b] = (8ax, σ(z) - ( 1 - σ(z) ), 4x² + 1, 2σ(b)² - 2σ(b) + 2σ(b)²)"
   ]
  }
 ],
 "metadata": {
  "kernelspec": {
   "display_name": "tf",
   "language": "python",
   "name": "python3"
  },
  "language_info": {
   "codemirror_mode": {
    "name": "ipython",
    "version": 3
   },
   "file_extension": ".py",
   "mimetype": "text/x-python",
   "name": "python",
   "nbconvert_exporter": "python",
   "pygments_lexer": "ipython3",
   "version": "3.11.5"
  }
 },
 "nbformat": 4,
 "nbformat_minor": 2
}
