{
 "cells": [
  {
   "cell_type": "code",
   "execution_count": 18,
   "metadata": {},
   "outputs": [],
   "source": [
    "!pip install -qq tensorflow-datasets tensorflow matplotlib"
   ]
  },
  {
   "cell_type": "code",
   "execution_count": 19,
   "metadata": {},
   "outputs": [],
   "source": [
    "import tensorflow_datasets as tfds\n",
    "import tensorflow as tf"
   ]
  },
  {
   "cell_type": "code",
   "execution_count": 20,
   "metadata": {},
   "outputs": [],
   "source": [
    "# load the data from tfds\n",
    "(train_ds, test_ds), ds_info = tfds.load(\n",
    "    'mnist',\n",
    "    split=['train', 'test'],\n",
    "    as_supervised=True,\n",
    "    with_info=True,\n",
    ")"
   ]
  },
  {
   "cell_type": "code",
   "execution_count": 21,
   "metadata": {},
   "outputs": [
    {
     "data": {
      "text/plain": [
       "tfds.core.DatasetInfo(\n",
       "    name='mnist',\n",
       "    full_name='mnist/3.0.1',\n",
       "    description=\"\"\"\n",
       "    The MNIST database of handwritten digits.\n",
       "    \"\"\",\n",
       "    homepage='http://yann.lecun.com/exdb/mnist/',\n",
       "    data_dir='/home/martin/tensorflow_datasets/mnist/3.0.1',\n",
       "    file_format=tfrecord,\n",
       "    download_size=11.06 MiB,\n",
       "    dataset_size=21.00 MiB,\n",
       "    features=FeaturesDict({\n",
       "        'image': Image(shape=(28, 28, 1), dtype=uint8),\n",
       "        'label': ClassLabel(shape=(), dtype=int64, num_classes=10),\n",
       "    }),\n",
       "    supervised_keys=('image', 'label'),\n",
       "    disable_shuffling=False,\n",
       "    splits={\n",
       "        'test': <SplitInfo num_examples=10000, num_shards=1>,\n",
       "        'train': <SplitInfo num_examples=60000, num_shards=1>,\n",
       "    },\n",
       "    citation=\"\"\"@article{lecun2010mnist,\n",
       "      title={MNIST handwritten digit database},\n",
       "      author={LeCun, Yann and Cortes, Corinna and Burges, CJ},\n",
       "      journal={ATT Labs [Online]. Available: http://yann.lecun.com/exdb/mnist},\n",
       "      volume={2},\n",
       "      year={2010}\n",
       "    }\"\"\",\n",
       ")"
      ]
     },
     "execution_count": 21,
     "metadata": {},
     "output_type": "execute_result"
    }
   ],
   "source": [
    "ds_info"
   ]
  },
  {
   "cell_type": "code",
   "execution_count": 22,
   "metadata": {},
   "outputs": [
    {
     "name": "stderr",
     "output_type": "stream",
     "text": [
      "2023-11-20 12:47:43.496458: I tensorflow/core/common_runtime/executor.cc:1197] [/device:CPU:0] (DEBUG INFO) Executor start aborting (this does not indicate an error and you can ignore this message): INVALID_ARGUMENT: You must feed a value for placeholder tensor 'Placeholder/_4' with dtype int64 and shape [1]\n",
      "\t [[{{node Placeholder/_4}}]]\n",
      "2023-11-20 12:47:43.496866: I tensorflow/core/common_runtime/executor.cc:1197] [/device:CPU:0] (DEBUG INFO) Executor start aborting (this does not indicate an error and you can ignore this message): INVALID_ARGUMENT: You must feed a value for placeholder tensor 'Placeholder/_2' with dtype string and shape [1]\n",
      "\t [[{{node Placeholder/_2}}]]\n",
      "2023-11-20 12:47:43.547594: W tensorflow/core/kernels/data/cache_dataset_ops.cc:856] The calling iterator did not fully read the dataset being cached. In order to avoid unexpected truncation of the dataset, the partially cached contents of the dataset  will be discarded. This can happen if you have an input pipeline similar to `dataset.cache().take(k).repeat()`. You should use `dataset.take(k).cache().repeat()` instead.\n",
      "2023-11-20 12:47:43.559418: I tensorflow/core/common_runtime/executor.cc:1197] [/device:CPU:0] (DEBUG INFO) Executor start aborting (this does not indicate an error and you can ignore this message): INVALID_ARGUMENT: You must feed a value for placeholder tensor 'Placeholder/_4' with dtype int64\n",
      "\t [[{{node Placeholder/_4}}]]\n"
     ]
    },
    {
     "data": {
      "image/png": "[encoded data removed]",
      "text/plain": [
       "<Figure size 1200x300 with 4 Axes>"
      ]
     },
     "metadata": {},
     "output_type": "display_data"
    },
    {
     "data": {
      "image/png": "[encoded data removed]",
      "text/plain": [
       "<Figure size 1200x300 with 4 Axes>"
      ]
     },
     "execution_count": 22,
     "metadata": {},
     "output_type": "execute_result"
    }
   ],
   "source": [
    "tfds.show_examples(train_ds, ds_info, rows=1, cols=4)"
   ]
  },
  {
   "cell_type": "code",
   "execution_count": 23,
   "metadata": {},
   "outputs": [],
   "source": [
    "# data pipeline\n",
    "def dataset(ds, mini_batch_size=512):\n",
    "    ds = ds.map(lambda x, y: (tf.cast(x, tf.float32) / 128.0 - 1, y)) # normalize, 0~255 -> -1~1\n",
    "    ds = ds.map(lambda x, y: (tf.reshape(x, (-1,)), y)) # flatten , 28x28 -> 784\n",
    "    ds = ds.map(lambda x, y: (x, tf.one_hot(y, 10))) # one-hot encoding\n",
    "    ds = ds.shuffle(10000).batch(mini_batch_size) # shuffle and batch\n",
    "    ds = ds.prefetch(tf.data.experimental.AUTOTUNE) # prefetch with AUTOTUNE for performance\n",
    "\n",
    "    return ds"
   ]
  },
  {
   "cell_type": "code",
   "execution_count": 24,
   "metadata": {},
   "outputs": [],
   "source": [
    "# # sanity check\n",
    "# ds = dataset(train_ds)\n",
    "# for elem in ds.take(1):\n",
    "#     print(elem)"
   ]
  },
  {
   "cell_type": "code",
   "execution_count": 25,
   "metadata": {},
   "outputs": [],
   "source": [
    "# simple model of feed-forward Dense layers\n",
    "class Model(tf.keras.Model):\n",
    "    \"\"\"\n",
    "    Create a simple feed-forward model with Dense layers.\n",
    "    \"\"\"\n",
    "    def __init__(self, dense_layers, output_shape, layers_activation, output_activation):\n",
    "        \"\"\"\n",
    "        args:\n",
    "            dense_layers: list of int, number of neurons in each dense layer\n",
    "            output_shape: int, number of neurons in the output layer\n",
    "            layers_activation: str/activation function, activation function of the dense layers\n",
    "            output_activation: str/activation function, activation function of the output layer\n",
    "        \"\"\"\n",
    "        super(Model, self).__init__()\n",
    "        self.__layers = []\n",
    "        for layer in dense_layers:\n",
    "            self.__layers.append(tf.keras.layers.Dense(layer, activation=layers_activation))\n",
    "        self.__layers.append(tf.keras.layers.Dense(output_shape, activation=output_activation))\n",
    "\n",
    "    def call(self, inputs):\n",
    "        x = inputs\n",
    "        for layer in self.__layers:\n",
    "            x = layer(x)\n",
    "        return x"
   ]
  },
  {
   "cell_type": "code",
   "execution_count": 26,
   "metadata": {},
   "outputs": [],
   "source": [
    "from tqdm import tqdm\n",
    "\n",
    "def training_loop(model, train, test, loss, opt, epochs=100):\n",
    "    \"\"\"\n",
    "    Train the model with the given training and test datasets.\n",
    "    args:\n",
    "        model: tf.keras.Model, the model to train\n",
    "        train: tf.data.Dataset, the training dataset\n",
    "        test: tf.data.Dataset, the test dataset\n",
    "        loss: tf.keras.losses, the loss function\n",
    "        opt: tf.keras.optimizers, the optimizer\n",
    "        epochs: int, number of epochs to train\n",
    "    return:\n",
    "        metrics: dict, training and test metrics\n",
    "    \"\"\"\n",
    "    train_loss = tf.keras.metrics.Mean()\n",
    "    train_accuracy = tf.keras.metrics.CategoricalAccuracy()\n",
    "    test_loss = tf.keras.metrics.Mean()\n",
    "    test_accuracy = tf.keras.metrics.CategoricalAccuracy()\n",
    "\n",
    "    metrics = {\n",
    "        'train_loss': [],\n",
    "        'train_accuracy': [],\n",
    "        'test_loss': [],\n",
    "        'test_accuracy': [],\n",
    "    }\n",
    "\n",
    "    for epoch in tqdm(range(epochs), desc='Epochs'):\n",
    "        for x, y in train:\n",
    "            with tf.GradientTape() as tape:\n",
    "                y_pred = model(x)\n",
    "                loss_value = loss(y, y_pred)\n",
    "            grads = tape.gradient(loss_value, model.trainable_variables)\n",
    "            opt.apply_gradients(zip(grads, model.trainable_variables))\n",
    "            \n",
    "            train_loss(loss_value)\n",
    "            train_accuracy(y, y_pred)\n",
    "        \n",
    "        for x, y in test:\n",
    "            y_pred = model(x)\n",
    "            loss_value = loss(y, y_pred)\n",
    "            \n",
    "            test_loss(loss_value)\n",
    "            test_accuracy(y, y_pred)\n",
    "\n",
    "        metrics['train_loss'].append(train_loss.result().numpy())\n",
    "        metrics['train_accuracy'].append(train_accuracy.result().numpy())\n",
    "        metrics['test_loss'].append(test_loss.result().numpy())\n",
    "        metrics['test_accuracy'].append(test_accuracy.result().numpy())\n",
    "\n",
    "        print(f'Train Loss: {metrics[\"train_loss\"][-1]:.4f}, Train Accuracy: {metrics[\"train_accuracy\"][-1]:.4f}')\n",
    "        print(f'Test Loss: {metrics[\"test_loss\"][-1]:.4f}, Test Accuracy: {metrics[\"test_accuracy\"][-1]:.4f}')\n",
    "        print()\n",
    "\n",
    "    return metrics\n"
   ]
  },
  {
   "cell_type": "code",
   "execution_count": 46,
   "metadata": {},
   "outputs": [],
   "source": [
    "# plotting, saving and loading metrics\n",
    "import matplotlib.pyplot as plt\n",
    "import numpy as np\n",
    "import json\n",
    "import os\n",
    "\n",
    "def save_model_info(file_name, model_info):\n",
    "    \"\"\"\n",
    "    Save the model info to a json file.\n",
    "    args:\n",
    "        file_name: str, name of the json file\n",
    "        model_info: dict, model info\n",
    "    \"\"\"\n",
    "    directory = os.path.dirname(file_name)\n",
    "    if not os.path.exists(directory):\n",
    "        os.makedirs(directory)\n",
    "\n",
    "    with open(file_name, 'w') as f:\n",
    "        json.dump(model_info, f)\n",
    "\n",
    "def save_metrics(model, metrics, hyper_parameter, model_type,file_name='metrics.json', model_description=\"\"):\n",
    "    \"\"\"\n",
    "    Save the metrics of the model to a json file.\n",
    "    args:\n",
    "        model: tf.keras.Model, the model to train\n",
    "        metrics: dict, training and test metrics\n",
    "        hyper_parameter: dict, hyper parameter of the model\n",
    "        type: str, type of the model\n",
    "        file_name: str, name of the json file\n",
    "    \"\"\"\n",
    "    # round the measurmenrs to 4 decimal places\n",
    "    for key, value in metrics.items():\n",
    "        metrics[key] = [np.around(float(x), 4) for x in value]\n",
    "    \n",
    "    # add the number of parameters to the metrics\n",
    "    params = model.count_params()\n",
    "\n",
    "    # initialize the model info dict\n",
    "    model_info = {\n",
    "                \"description\": model_description ,\n",
    "                \"type\": model_type,\n",
    "                \"parameter_count\": params,\n",
    "                \"hyper_parameter\": hyper_parameter,\n",
    "                \"metrics\": metrics,\n",
    "                \"accuracy_test\": metrics['test_accuracy'][-1],\n",
    "                \"accuracy_train\": metrics['train_accuracy'][-1],\n",
    "                \"loss_test\": metrics['test_loss'][-1],\n",
    "                \"loss_train\": metrics['train_loss'][-1],\n",
    "                }\n",
    "    \n",
    "    # save the model info to a json file\n",
    "    save_model_info(file_name, model_info)\n",
    "\n",
    "def load_metrics(file_name='metrics.json'):\n",
    "    \"\"\"\n",
    "    Load the metrics of the model from a json file.\n",
    "    \"\"\"\n",
    "    with open(file_name, 'r') as f:\n",
    "        model_info = json.load(f)\n",
    "    return model_info\n",
    "    \n",
    "\n",
    "def visualize(metrics, fig_title = \"\",max_steps = 20):\n",
    "\n",
    "    # set the x-axis ticks\n",
    "    epoch_idx = range(1,len(metrics['test_loss']) + 1)\n",
    "    x_ticks = list(epoch_idx)\n",
    "    x_ticks = x_ticks[::len(x_ticks)//max_steps + 1]\n",
    "\n",
    "    # Create a figure with two subplots (axes)\n",
    "    fig, (ax1, ax2) = plt.subplots(1, 2, figsize=(12, 6))\n",
    "    fig.suptitle(fig_title)\n",
    "\n",
    "    # Plot test loss and accuracy\n",
    "    line3, = ax1.plot(epoch_idx, metrics['test_loss'], 'r-')\n",
    "    line4, = ax1.plot(epoch_idx, metrics['train_loss'], 'b-')\n",
    "\n",
    "    ax1.set_xlabel('Epoch')\n",
    "    ax1.set_ylabel('Accuracy')\n",
    "    ax1.legend([line3, line4], ['Test Loss', 'Train Loss'])\n",
    "    ax1.set_title('Loss, Train - Test')\n",
    "    ax1.set_xticks(x_ticks)\n",
    "    ax1.grid(True)\n",
    "\n",
    "    # Plot training loss and accuracy\n",
    "    line1, = ax2.plot(epoch_idx, metrics['test_accuracy'], 'r--')\n",
    "    line2, = ax2.plot(epoch_idx, metrics['train_accuracy'], 'b--')\n",
    "\n",
    "    ax2.set_xlabel('Epoch')\n",
    "    ax2.set_ylabel('Loss')\n",
    "    ax2.legend([line1, line2], ['Test Accuracy', 'Train Accuracy'])\n",
    "    ax2.set_title('Accuracy, Train - Test')\n",
    "    ax2.set_xticks(x_ticks)\n",
    "    ax2.grid(True)\n",
    "\n",
    "    # Show the plots\n",
    "    plt.tight_layout()\n",
    "    plt.show()\n",
    "\n",
    "\n",
    "def plot_model_comparision(models:list, max_steps = 20):\n",
    "    \"\"\"\n",
    "    Plot the test accuracy of the given models.\n",
    "    \"\"\"\n",
    "    fig , ax = plt.subplots(1, 1, figsize=(10, 10))\n",
    "    fig.suptitle(\"Model Comparision\")\n",
    "\n",
    "    # set the x-axis ticks\n",
    "    \n",
    "    metrics_lenght = len(load_metrics(models[0])['metrics']['test_loss'])\n",
    "    epoch_idx = range(1,metrics_lenght + 1)\n",
    "    x_ticks = list(epoch_idx)\n",
    "    x_ticks = x_ticks[::len(x_ticks)//max_steps + 1]\n",
    "\n",
    "    for model in models:\n",
    "        model_info = load_metrics(model)\n",
    "        model_metrics = model_info['metrics']\n",
    "        model_hyper_parameter = model_info['hyper_parameter']\n",
    "        label = f\"{model_info['type']}_{len(model_hyper_parameter['DENSE_LAYERS'])}: {model_info['parameter_count']:,}\"\n",
    "        ax.plot(epoch_idx, model_metrics['test_accuracy'], label=label)\n",
    "\n",
    "    ax.set_xlabel('Epoch')\n",
    "    ax.set_ylabel('Accuracy')\n",
    "    ax.set_title('Test Accuracy')\n",
    "    ax.set_xticks(x_ticks)\n",
    "    ax.grid(True)\n",
    "    ax.legend()\n",
    "\n",
    "    plt.tight_layout()\n",
    "    plt.show()"
   ]
  },
  {
   "cell_type": "markdown",
   "metadata": {},
   "source": [
    "### Hyperparameters"
   ]
  },
  {
   "cell_type": "code",
   "execution_count": 28,
   "metadata": {},
   "outputs": [],
   "source": [
    "class Model_Convolve(tf.keras.Model):\n",
    "    \"\"\"\n",
    "    a simple CNN model with 2 Conv2D layers and 2 MaxPooling2D layers\n",
    "    \"\"\"\n",
    "    def __init__(self):\n",
    "        super(Model_Convolve, self).__init__()\n",
    "        self.seq = tf.keras.Sequential([\n",
    "            tf.keras.layers.Conv2D(8, kernel_size=(5, 5), activation='relu', input_shape=(28, 28, 1)),\n",
    "            tf.keras.layers.MaxPooling2D((2, 2)),\n",
    "            tf.keras.layers.Conv2D(16, kernel_size=(5, 5), activation='relu'),\n",
    "            tf.keras.layers.MaxPooling2D((2, 2)),\n",
    "            tf.keras.layers.Flatten(),\n",
    "            tf.keras.layers.Dense(256, activation='relu'),\n",
    "            tf.keras.layers.Dense(10, activation='softmax'),\n",
    "        ])\n",
    "\n",
    "    def call(self, inputs):\n",
    "        x = tf.reshape(inputs, [-1, 28, 28, 1])\n",
    "        return self.seq(x)"
   ]
  },
  {
   "cell_type": "code",
   "execution_count": 29,
   "metadata": {},
   "outputs": [],
   "source": [
    "# configuration of the hyper parameters\n",
    "DENSE_LAYERS = [16,16]\n",
    "EPOCHS = 10\n",
    "BATCH_SIZE = 128\n",
    "LEARNING_RATE = 0.001\n",
    "MOMENTUM = 0.9\n",
    "USE_SCHEDULER = True\n",
    "OPTIMIZER = \"SGD\"\n",
    "\n",
    "TYPE = 'dense' # dense or conv\n",
    "\n",
    "train_data = dataset(train_ds, BATCH_SIZE)\n",
    "test_data = dataset(test_ds, BATCH_SIZE)"
   ]
  },
  {
   "cell_type": "code",
   "execution_count": 30,
   "metadata": {},
   "outputs": [],
   "source": [
    "# initialize the model\n",
    "if TYPE == 'dense':\n",
    "    model = Model(DENSE_LAYERS, 10, 'relu', 'softmax')\n",
    "elif TYPE == 'conv':\n",
    "    model = Model_Convolve()\n",
    "\n",
    "loss = tf.keras.losses.CategoricalCrossentropy()\n",
    "if USE_SCHEDULER:\n",
    "    lr_fn = tf.optimizers.schedules.PolynomialDecay(LEARNING_RATE*0.1, EPOCHS, LEARNING_RATE*10, 2) # use a scheduler to decay the learning rate over time\n",
    "    if OPTIMIZER == \"SGD\":\n",
    "        opt = tf.keras.optimizers.SGD(learning_rate=lr_fn, momentum=MOMENTUM)\n",
    "    elif OPTIMIZER == \"Adam\":\n",
    "        opt = tf.keras.optimizers.Adam(learning_rate=lr_fn)\n",
    "else:\n",
    "    if OPTIMIZER == \"SGD\":\n",
    "        opt = tf.keras.optimizers.SGD(learning_rate=LEARNING_RATE, momentum=MOMENTUM)\n",
    "    elif OPTIMIZER == \"Adam\":\n",
    "        opt = tf.keras.optimizers.Adam(learning_rate=LEARNING_RATE)"
   ]
  },
  {
   "cell_type": "code",
   "execution_count": 31,
   "metadata": {},
   "outputs": [
    {
     "name": "stderr",
     "output_type": "stream",
     "text": [
      "Epochs:   0%|          | 0/10 [00:00<?, ?it/s]"
     ]
    },
    {
     "name": "stderr",
     "output_type": "stream",
     "text": [
      "2023-11-20 12:47:43.970954: I tensorflow/core/common_runtime/executor.cc:1197] [/device:CPU:0] (DEBUG INFO) Executor start aborting (this does not indicate an error and you can ignore this message): INVALID_ARGUMENT: You must feed a value for placeholder tensor 'Placeholder/_4' with dtype int64 and shape [1]\n",
      "\t [[{{node Placeholder/_4}}]]\n",
      "2023-11-20 12:47:43.971616: I tensorflow/core/common_runtime/executor.cc:1197] [/device:CPU:0] (DEBUG INFO) Executor start aborting (this does not indicate an error and you can ignore this message): INVALID_ARGUMENT: You must feed a value for placeholder tensor 'Placeholder/_4' with dtype int64 and shape [1]\n",
      "\t [[{{node Placeholder/_4}}]]\n",
      "2023-11-20 12:47:51.206313: I tensorflow/core/common_runtime/executor.cc:1197] [/device:CPU:0] (DEBUG INFO) Executor start aborting (this does not indicate an error and you can ignore this message): INVALID_ARGUMENT: You must feed a value for placeholder tensor 'Placeholder/_2' with dtype string and shape [1]\n",
      "\t [[{{node Placeholder/_2}}]]\n",
      "2023-11-20 12:47:51.206793: I tensorflow/core/common_runtime/executor.cc:1197] [/device:CPU:0] (DEBUG INFO) Executor start aborting (this does not indicate an error and you can ignore this message): INVALID_ARGUMENT: You must feed a value for placeholder tensor 'Placeholder/_4' with dtype int64 and shape [1]\n",
      "\t [[{{node Placeholder/_4}}]]\n",
      "Epochs:  10%|█         | 1/10 [00:08<01:14,  8.31s/it]"
     ]
    },
    {
     "name": "stdout",
     "output_type": "stream",
     "text": [
      "Train Loss: 0.5742, Train Accuracy: 0.8163\n",
      "Test Loss: 0.3215, Test Accuracy: 0.9047\n",
      "\n"
     ]
    },
    {
     "name": "stderr",
     "output_type": "stream",
     "text": [
      "Epochs:  20%|██        | 2/10 [00:15<01:01,  7.71s/it]"
     ]
    },
    {
     "name": "stdout",
     "output_type": "stream",
     "text": [
      "Train Loss: 0.4406, Train Accuracy: 0.8625\n",
      "Test Loss: 0.2890, Test Accuracy: 0.9157\n",
      "\n"
     ]
    },
    {
     "name": "stderr",
     "output_type": "stream",
     "text": [
      "Epochs:  30%|███       | 3/10 [00:22<00:52,  7.48s/it]"
     ]
    },
    {
     "name": "stdout",
     "output_type": "stream",
     "text": [
      "Train Loss: 0.3824, Train Accuracy: 0.8818\n",
      "Test Loss: 0.2846, Test Accuracy: 0.9148\n",
      "\n"
     ]
    },
    {
     "name": "stderr",
     "output_type": "stream",
     "text": [
      "Epochs:  40%|████      | 4/10 [00:29<00:43,  7.25s/it]"
     ]
    },
    {
     "name": "stdout",
     "output_type": "stream",
     "text": [
      "Train Loss: 0.3479, Train Accuracy: 0.8931\n",
      "Test Loss: 0.2741, Test Accuracy: 0.9170\n",
      "\n"
     ]
    },
    {
     "name": "stderr",
     "output_type": "stream",
     "text": [
      "Epochs:  50%|█████     | 5/10 [00:36<00:36,  7.20s/it]"
     ]
    },
    {
     "name": "stdout",
     "output_type": "stream",
     "text": [
      "Train Loss: 0.3230, Train Accuracy: 0.9012\n",
      "Test Loss: 0.2609, Test Accuracy: 0.9210\n",
      "\n"
     ]
    },
    {
     "name": "stderr",
     "output_type": "stream",
     "text": [
      "Epochs:  60%|██████    | 6/10 [00:43<00:28,  7.12s/it]"
     ]
    },
    {
     "name": "stdout",
     "output_type": "stream",
     "text": [
      "Train Loss: 0.3036, Train Accuracy: 0.9072\n",
      "Test Loss: 0.2528, Test Accuracy: 0.9235\n",
      "\n"
     ]
    },
    {
     "name": "stderr",
     "output_type": "stream",
     "text": [
      "Epochs:  70%|███████   | 7/10 [00:51<00:21,  7.21s/it]"
     ]
    },
    {
     "name": "stdout",
     "output_type": "stream",
     "text": [
      "Train Loss: 0.2881, Train Accuracy: 0.9121\n",
      "Test Loss: 0.2457, Test Accuracy: 0.9259\n",
      "\n"
     ]
    },
    {
     "name": "stderr",
     "output_type": "stream",
     "text": [
      "Epochs:  80%|████████  | 8/10 [00:58<00:14,  7.21s/it]"
     ]
    },
    {
     "name": "stdout",
     "output_type": "stream",
     "text": [
      "Train Loss: 0.2757, Train Accuracy: 0.9160\n",
      "Test Loss: 0.2399, Test Accuracy: 0.9275\n",
      "\n"
     ]
    },
    {
     "name": "stderr",
     "output_type": "stream",
     "text": [
      "Epochs:  90%|█████████ | 9/10 [01:05<00:07,  7.18s/it]"
     ]
    },
    {
     "name": "stdout",
     "output_type": "stream",
     "text": [
      "Train Loss: 0.2652, Train Accuracy: 0.9194\n",
      "Test Loss: 0.2338, Test Accuracy: 0.9296\n",
      "\n"
     ]
    },
    {
     "name": "stderr",
     "output_type": "stream",
     "text": [
      "Epochs: 100%|██████████| 10/10 [01:12<00:00,  7.29s/it]"
     ]
    },
    {
     "name": "stdout",
     "output_type": "stream",
     "text": [
      "Train Loss: 0.2562, Train Accuracy: 0.9223\n",
      "Test Loss: 0.2303, Test Accuracy: 0.9306\n",
      "\n"
     ]
    },
    {
     "name": "stderr",
     "output_type": "stream",
     "text": [
      "\n"
     ]
    }
   ],
   "source": [
    "# train the modle and get the metrics of the training\n",
    "metrics = training_loop(model, train_data, test_data, loss, opt, EPOCHS)"
   ]
  },
  {
   "cell_type": "code",
   "execution_count": 32,
   "metadata": {},
   "outputs": [],
   "source": [
    "# save the metrics and model meta data to a json file\n",
    "hyper_parameter = {\n",
    "    'DENSE_LAYERS': DENSE_LAYERS,\n",
    "    'EPOCHS': EPOCHS,\n",
    "    'BATCH_SIZE': BATCH_SIZE,\n",
    "    'LEARNING_RATE': LEARNING_RATE,\n",
    "    'MOMENTUM': MOMENTUM,\n",
    "    'USE_SCHEDULER': USE_SCHEDULER,\n",
    "    'OPTIMIZER': OPTIMIZER\n",
    "}\n",
    "\n",
    "file_name = f'./epochs_{EPOCHS}/' + 'metrics_12.json'\n",
    "save_metrics(model, metrics, hyper_parameter, TYPE, file_name)"
   ]
  },
  {
   "cell_type": "code",
   "execution_count": 33,
   "metadata": {},
   "outputs": [
    {
     "data": {
      "image/png": "[encoded data removed]",
      "text/plain": [
       "<Figure size 1200x600 with 2 Axes>"
      ]
     },
     "metadata": {},
     "output_type": "display_data"
    }
   ],
   "source": [
    "# visualize the metrics\n",
    "\n",
    "# file_name = \"./epochs_10/metrics_12.json\"\n",
    "with open(file_name, 'r') as f:\n",
    "    model_info = json.load(f)\n",
    "\n",
    "visualize(model_info['metrics'],\n",
    " f\"{model_info['description']}\\nAccuracy: {model_info['accuracy_test']:.4f}, parameter count: {model_info['parameter_count']}\") # visualize the metrics with title from a json file\n",
    "\n",
    "# visualize(metrics) # direct visualization from the metrics dict\n"
   ]
  },
  {
   "cell_type": "code",
   "execution_count": 34,
   "metadata": {},
   "outputs": [],
   "source": [
    "# compare multiple models from json files both tabularly and graphically\n",
    "import pandas as pd\n",
    "\n",
    "def compare_models(models_to_compare, plot=True):\n",
    "\n",
    "\n",
    "    # Define columns for the DataFrame\n",
    "    columns = ['model', 'layers', '#params', 'lr', 'momentum', 'mini_batch', 'epochs', 'optimizer', 'accuracy_test', 'accuracy_train']\n",
    "    df = pd.DataFrame(columns=columns)\n",
    "\n",
    "    for model in models_to_compare:\n",
    "        model_info = load_metrics(model)\n",
    "        model_hyper_parameter = model_info['hyper_parameter']\n",
    "\n",
    "        # Create a new entry as a dictionary ensuring all columns are covered\n",
    "        new_entry = {\n",
    "            'model': model_info['description'],\n",
    "            'layers': model_hyper_parameter.get('DENSE_LAYERS', pd.NA),  # Using pd.NA for missing values\n",
    "            '#params': model_info['parameter_count'],\n",
    "            'lr': model_hyper_parameter.get('LEARNING_RATE', pd.NA),\n",
    "            'momentum': model_hyper_parameter.get('MOMENTUM', pd.NA),\n",
    "            'mini_batch': model_hyper_parameter.get('BATCH_SIZE', pd.NA),\n",
    "            'epochs': model_hyper_parameter.get('EPOCHS', pd.NA),\n",
    "            'optimizer': model_hyper_parameter.get('OPTIMIZER', pd.NA),\n",
    "            'accuracy_test': model_info.get('accuracy_test', pd.NA),\n",
    "            'accuracy_train': model_info.get('accuracy_train', pd.NA)\n",
    "        }\n",
    "\n",
    "        # Convert the dictionary to a DataFrame and concatenate\n",
    "        new_entry_df = pd.DataFrame([new_entry], columns=columns)\n",
    "        df = pd.concat([df, new_entry_df], ignore_index=True)\n",
    "\n",
    "    df = df.sort_values(by=['accuracy_test'], ascending=False)\n",
    "    # print(df.to_string())\n",
    "\n",
    "    if plot:\n",
    "        plot_model_comparision(models_to_compare)\n",
    "\n",
    "    return df"
   ]
  },
  {
   "cell_type": "code",
   "execution_count": 48,
   "metadata": {},
   "outputs": [],
   "source": [
    "# models to consider for the comparision\n",
    "MODELS_IDX = [0,4,7,6,10]"
   ]
  },
  {
   "cell_type": "code",
   "execution_count": 60,
   "metadata": {},
   "outputs": [
    {
     "name": "stderr",
     "output_type": "stream",
     "text": [
      "/tmp/ipykernel_7906/1170558275.py:31: FutureWarning: The behavior of DataFrame concatenation with empty or all-NA entries is deprecated. In a future version, this will no longer exclude empty or all-NA columns when determining the result dtypes. To retain the old behavior, exclude the relevant entries before the concat operation.\n",
      "  df = pd.concat([df, new_entry_df], ignore_index=True)\n"
     ]
    },
    {
     "data": {
      "image/png": "[encoded data removed]",
      "text/plain": [
       "<Figure size 1000x1000 with 1 Axes>"
      ]
     },
     "metadata": {},
     "output_type": "display_data"
    },
    {
     "data": {
      "text/html": [
       "<div>\n",
       "<style scoped>\n",
       "    .dataframe tbody tr th:only-of-type {\n",
       "        vertical-align: middle;\n",
       "    }\n",
       "\n",
       "    .dataframe tbody tr th {\n",
       "        vertical-align: top;\n",
       "    }\n",
       "\n",
       "    .dataframe thead th {\n",
       "        text-align: right;\n",
       "    }\n",
       "</style>\n",
       "<table border=\"1\" class=\"dataframe\">\n",
       "  <thead>\n",
       "    <tr style=\"text-align: right;\">\n",
       "      <th></th>\n",
       "      <th>model</th>\n",
       "      <th>layers</th>\n",
       "      <th>#params</th>\n",
       "      <th>lr</th>\n",
       "      <th>momentum</th>\n",
       "      <th>mini_batch</th>\n",
       "      <th>epochs</th>\n",
       "      <th>optimizer</th>\n",
       "      <th>accuracy_test</th>\n",
       "      <th>accuracy_train</th>\n",
       "    </tr>\n",
       "  </thead>\n",
       "  <tbody>\n",
       "    <tr>\n",
       "      <th>0</th>\n",
       "      <td>CNN_2Conv_2MaxPool_1Dense</td>\n",
       "      <td>[]</td>\n",
       "      <td>71786</td>\n",
       "      <td>0.010</td>\n",
       "      <td>0.9</td>\n",
       "      <td>512</td>\n",
       "      <td>10</td>\n",
       "      <td>Adam</td>\n",
       "      <td>0.9858</td>\n",
       "      <td>0.9825</td>\n",
       "    </tr>\n",
       "    <tr>\n",
       "      <th>2</th>\n",
       "      <td>Dense_1</td>\n",
       "      <td>[64]</td>\n",
       "      <td>50890</td>\n",
       "      <td>0.010</td>\n",
       "      <td>0.5</td>\n",
       "      <td>128</td>\n",
       "      <td>10</td>\n",
       "      <td>SGD</td>\n",
       "      <td>0.9497</td>\n",
       "      <td>0.9434</td>\n",
       "    </tr>\n",
       "    <tr>\n",
       "      <th>3</th>\n",
       "      <td>Dense_1</td>\n",
       "      <td>[64]</td>\n",
       "      <td>50890</td>\n",
       "      <td>0.010</td>\n",
       "      <td>0.5</td>\n",
       "      <td>256</td>\n",
       "      <td>10</td>\n",
       "      <td>SGD</td>\n",
       "      <td>0.9419</td>\n",
       "      <td>0.9379</td>\n",
       "    </tr>\n",
       "    <tr>\n",
       "      <th>4</th>\n",
       "      <td>Dense_1</td>\n",
       "      <td>[16]</td>\n",
       "      <td>12730</td>\n",
       "      <td>0.001</td>\n",
       "      <td>0.9</td>\n",
       "      <td>64</td>\n",
       "      <td>10</td>\n",
       "      <td>Adam</td>\n",
       "      <td>0.9096</td>\n",
       "      <td>0.9031</td>\n",
       "    </tr>\n",
       "    <tr>\n",
       "      <th>1</th>\n",
       "      <td>Dense_3</td>\n",
       "      <td>[128, 64, 32]</td>\n",
       "      <td>111146</td>\n",
       "      <td>0.010</td>\n",
       "      <td>0.9</td>\n",
       "      <td>512</td>\n",
       "      <td>10</td>\n",
       "      <td>SGD</td>\n",
       "      <td>0.1135</td>\n",
       "      <td>0.1203</td>\n",
       "    </tr>\n",
       "  </tbody>\n",
       "</table>\n",
       "</div>"
      ],
      "text/plain": [
       "                       model         layers #params     lr  momentum  \\\n",
       "0  CNN_2Conv_2MaxPool_1Dense             []   71786  0.010       0.9   \n",
       "2                    Dense_1           [64]   50890  0.010       0.5   \n",
       "3                    Dense_1           [64]   50890  0.010       0.5   \n",
       "4                    Dense_1           [16]   12730  0.001       0.9   \n",
       "1                    Dense_3  [128, 64, 32]  111146  0.010       0.9   \n",
       "\n",
       "  mini_batch epochs optimizer  accuracy_test  accuracy_train  \n",
       "0        512     10      Adam         0.9858          0.9825  \n",
       "2        128     10       SGD         0.9497          0.9434  \n",
       "3        256     10       SGD         0.9419          0.9379  \n",
       "4         64     10      Adam         0.9096          0.9031  \n",
       "1        512     10       SGD         0.1135          0.1203  "
      ]
     },
     "execution_count": 60,
     "metadata": {},
     "output_type": "execute_result"
    }
   ],
   "source": [
    "models_path = \"./epochs_10/\"\n",
    "models_files = [\"metrics_00.json\",\"metrics_01.json\",\n",
    "                    \"metrics_02.json\", \"metrics_03.json\",\n",
    "                    \"metrics_04.json\", \"metrics_05.json\",\n",
    "                    \"metrics_06.json\", \"metrics_07.json\",\n",
    "                    \"metrics_08.json\", \"metrics_09.json\",\n",
    "                    \"metrics_10.json\", \"metrics_11.json\"]\n",
    "models_files = [models_files[i] for i in MODELS_IDX]\n",
    "\n",
    "models_to_compare = [models_path + model for model in models_files] # add the path to the models\n",
    "df = compare_models(models_to_compare, plot=True)\n",
    "df"
   ]
  },
  {
   "cell_type": "markdown",
   "metadata": {},
   "source": [
    "### analysis of the results\n",
    "for the analysis we will briefly discuss the results of the following 4 DenseNet models and the best performing model (CNN):\n",
    "-All models were trained for 10 epochs\n",
    "\n",
    "- A - Denes - [64] neurons - LR: 0.01 - momentum: 0.5 - batch size: 128 - opt: SGD - params: 50890   \n",
    "- B - Dense - [64] neurons - LR: 0.01 - momentum: 0.5 - batch size: 256 - opt: SGD - params: 50890   \n",
    "- C - Dense - [16] neurons - LR: 0.001 - momentum: 0.9 - batch size: 64 - opt: Adam - params: 12730   \n",
    "- D - Dense - [128, 64, 32] neurons - LR: 0.01 - momentum: 0.9 - batch size: 256 - opt: SGD - params: 111146  \n",
    "\n",
    "- model A has performed better than larger models and same models with varient RL and momentum ( B and D and other similar ones) what sat it apart was the smaller batch size, which allowed for more frequent updates to the weights, where as model D proved to be too large for the learning rate of 0.01 on the given task, and could not converge at all, model C of only one hidden layer of 16 neurons proved to perform comparaply well with over 90% accuracy, and smaller batches proved better than larger ones, as well as smaller LR and higher momentum.\n",
    "\n",
    "the closest we got to a CNN performance (98.5%) was with model A (95%), and next with condedirably larger moodels not included in the anaylsis above, [256, 128, 256] with (96.7%) ..."
   ]
  },
  {
   "cell_type": "markdown",
   "metadata": {},
   "source": [
    "## --- IGNORE BELOW ---- \n"
   ]
  },
  {
   "cell_type": "code",
   "execution_count": 61,
   "metadata": {},
   "outputs": [],
   "source": [
    "MODELS_IDX = [0,4,7,6,10]"
   ]
  },
  {
   "cell_type": "markdown",
   "metadata": {},
   "source": [
    "adjust hyper parameter across moduls:"
   ]
  },
  {
   "cell_type": "code",
   "execution_count": 15,
   "metadata": {},
   "outputs": [],
   "source": [
    "def train_from_json(file_name, **override_hyper_parameter):\n",
    "    \"\"\"\n",
    "    Load the model from a json file and optionally override the hyper parameters\n",
    "    args:\n",
    "        file_name: str, name of the json file\n",
    "        override_hyper_parameter: dict, hyper parameters to override\n",
    "    return:\n",
    "        model: tf.keras.Model, the model to train\n",
    "        train_data: tf.data.Dataset, the training dataset\n",
    "        test_data: tf.data.Dataset, the test dataset\n",
    "        hyper_parameter: dict, hyper parameter of the model\n",
    "    \"\"\"\n",
    "    with open(file_name, 'r') as f:\n",
    "        model_info = json.load(f)\n",
    "    \n",
    "    hyper_parameter = model_info['hyper_parameter']\n",
    "    hyper_parameter.update(override_hyper_parameter)\n",
    "\n",
    "    if model_info['description'].startswith('Dense'):\n",
    "        model = Model(hyper_parameter['DENSE_LAYERS'], 10, 'relu', 'softmax')\n",
    "    elif model_info['description'].startswith('CNN'):\n",
    "        model = Model_Convolve()\n",
    " \n",
    "    loss = tf.keras.losses.CategoricalCrossentropy()\n",
    "    if hyper_parameter['USE_SCHEDULER']:\n",
    "        lr_fn = tf.optimizers.schedules.PolynomialDecay(hyper_parameter['LEARNING_RATE']*0.1, hyper_parameter['EPOCHS'], hyper_parameter['LEARNING_RATE']*10, 2) # use a scheduler to decay the learning rate over time\n",
    "        if hyper_parameter['OPTIMIZER'] == 'Adam':\n",
    "            opt = tf.keras.optimizers.Adam(learning_rate=lr_fn)\n",
    "        else:\n",
    "            opt = tf.keras.optimizers.SGD(learning_rate=lr_fn, momentum=hyper_parameter['MOMENTUM'])\n",
    "    else:\n",
    "        if hyper_parameter['OPTIMIZER'] == 'Adam':\n",
    "            opt = tf.keras.optimizers.Adam(learning_rate=hyper_parameter['LEARNING_RATE'])\n",
    "        else:\n",
    "            opt = tf.keras.optimizers.SGD(learning_rate=hyper_parameter['LEARNING_RATE'], momentum=hyper_parameter['MOMENTUM'])\n",
    "    \n",
    "    train_data = dataset(train_ds, hyper_parameter['BATCH_SIZE'])\n",
    "    test_data = dataset(test_ds, hyper_parameter['BATCH_SIZE'])\n",
    "\n",
    "    # build the model\n",
    "\n",
    "    metrics = training_loop(model, train_data, test_data, loss, opt, hyper_parameter['EPOCHS'])\n",
    "    \n",
    "    for key, value in metrics.items():\n",
    "        metrics[key] = [np.around(float(x), 4) for x in value]\n",
    "\n",
    "    model_info['metrics'] = metrics\n",
    "    model_info['hyper_parameter'] = hyper_parameter\n",
    "\n",
    "    model_info['accuracy_test'] = metrics['test_accuracy'][-1]\n",
    "    model_info['accuracy_train'] = metrics['train_accuracy'][-1]\n",
    "    model_info['loss_test'] = metrics['test_loss'][-1]\n",
    "    model_info['loss_train'] = metrics['train_loss'][-1]\n",
    "\n",
    "    model_info['parameter_count'] = model.count_params()\n",
    "\n",
    "    return model_info\n"
   ]
  },
  {
   "cell_type": "markdown",
   "metadata": {},
   "source": [
    "set some hypermeter you want to change/unify across moduls"
   ]
  },
  {
   "cell_type": "code",
   "execution_count": 71,
   "metadata": {},
   "outputs": [
    {
     "name": "stderr",
     "output_type": "stream",
     "text": [
      "Epochs:   0%|          | 0/20 [00:00<?, ?it/s]2023-11-20 13:46:52.774725: I tensorflow/core/common_runtime/executor.cc:1197] [/device:CPU:0] (DEBUG INFO) Executor start aborting (this does not indicate an error and you can ignore this message): INVALID_ARGUMENT: You must feed a value for placeholder tensor 'Placeholder/_0' with dtype string and shape [1]\n",
      "\t [[{{node Placeholder/_0}}]]\n",
      "2023-11-20 13:46:52.775302: I tensorflow/core/common_runtime/executor.cc:1197] [/device:CPU:0] (DEBUG INFO) Executor start aborting (this does not indicate an error and you can ignore this message): INVALID_ARGUMENT: You must feed a value for placeholder tensor 'Placeholder/_4' with dtype int64 and shape [1]\n",
      "\t [[{{node Placeholder/_4}}]]\n",
      "2023-11-20 13:46:55.792619: I tensorflow/core/common_runtime/executor.cc:1197] [/device:CPU:0] (DEBUG INFO) Executor start aborting (this does not indicate an error and you can ignore this message): INVALID_ARGUMENT: You must feed a value for placeholder tensor 'Placeholder/_2' with dtype string and shape [1]\n",
      "\t [[{{node Placeholder/_2}}]]\n",
      "2023-11-20 13:46:55.793094: I tensorflow/core/common_runtime/executor.cc:1197] [/device:CPU:0] (DEBUG INFO) Executor start aborting (this does not indicate an error and you can ignore this message): INVALID_ARGUMENT: You must feed a value for placeholder tensor 'Placeholder/_2' with dtype string and shape [1]\n",
      "\t [[{{node Placeholder/_2}}]]\n",
      "Epochs:   5%|▌         | 1/20 [00:03<01:04,  3.42s/it]"
     ]
    },
    {
     "name": "stdout",
     "output_type": "stream",
     "text": [
      "Train Loss: 1.8899, Train Accuracy: 0.3841\n",
      "Test Loss: 1.3037, Test Accuracy: 0.6723\n",
      "\n"
     ]
    },
    {
     "name": "stderr",
     "output_type": "stream",
     "text": [
      "Epochs:  10%|█         | 2/20 [00:06<00:57,  3.18s/it]"
     ]
    },
    {
     "name": "stdout",
     "output_type": "stream",
     "text": [
      "Train Loss: 1.4206, Train Accuracy: 0.5701\n",
      "Test Loss: 0.9882, Test Accuracy: 0.7485\n",
      "\n"
     ]
    },
    {
     "name": "stderr",
     "output_type": "stream",
     "text": [
      "Epochs:  15%|█▌        | 3/20 [00:09<00:52,  3.08s/it]"
     ]
    },
    {
     "name": "stdout",
     "output_type": "stream",
     "text": [
      "Train Loss: 1.1461, Train Accuracy: 0.6588\n",
      "Test Loss: 0.8255, Test Accuracy: 0.7863\n",
      "\n"
     ]
    },
    {
     "name": "stderr",
     "output_type": "stream",
     "text": [
      "Epochs:  20%|██        | 4/20 [00:12<00:48,  3.02s/it]"
     ]
    },
    {
     "name": "stdout",
     "output_type": "stream",
     "text": [
      "Train Loss: 0.9799, Train Accuracy: 0.7098\n",
      "Test Loss: 0.7262, Test Accuracy: 0.8106\n",
      "\n"
     ]
    },
    {
     "name": "stderr",
     "output_type": "stream",
     "text": [
      "Epochs:  25%|██▌       | 5/20 [00:15<00:44,  2.98s/it]"
     ]
    },
    {
     "name": "stdout",
     "output_type": "stream",
     "text": [
      "Train Loss: 0.8684, Train Accuracy: 0.7434\n",
      "Test Loss: 0.6580, Test Accuracy: 0.8270\n",
      "\n"
     ]
    },
    {
     "name": "stderr",
     "output_type": "stream",
     "text": [
      "Epochs:  30%|███       | 6/20 [00:18<00:41,  2.97s/it]"
     ]
    },
    {
     "name": "stdout",
     "output_type": "stream",
     "text": [
      "Train Loss: 0.7881, Train Accuracy: 0.7674\n",
      "Test Loss: 0.6080, Test Accuracy: 0.8390\n",
      "\n"
     ]
    },
    {
     "name": "stderr",
     "output_type": "stream",
     "text": [
      "Epochs:  35%|███▌      | 7/20 [00:21<00:38,  2.96s/it]"
     ]
    },
    {
     "name": "stdout",
     "output_type": "stream",
     "text": [
      "Train Loss: 0.7275, Train Accuracy: 0.7855\n",
      "Test Loss: 0.5691, Test Accuracy: 0.8480\n",
      "\n"
     ]
    },
    {
     "name": "stderr",
     "output_type": "stream",
     "text": [
      "Epochs:  40%|████      | 8/20 [00:24<00:35,  2.96s/it]"
     ]
    },
    {
     "name": "stdout",
     "output_type": "stream",
     "text": [
      "Train Loss: 0.6796, Train Accuracy: 0.7997\n",
      "Test Loss: 0.5383, Test Accuracy: 0.8552\n",
      "\n"
     ]
    },
    {
     "name": "stderr",
     "output_type": "stream",
     "text": [
      "Epochs:  45%|████▌     | 9/20 [00:27<00:32,  2.95s/it]"
     ]
    },
    {
     "name": "stdout",
     "output_type": "stream",
     "text": [
      "Train Loss: 0.6408, Train Accuracy: 0.8111\n",
      "Test Loss: 0.5135, Test Accuracy: 0.8610\n",
      "\n"
     ]
    },
    {
     "name": "stderr",
     "output_type": "stream",
     "text": [
      "Epochs:  50%|█████     | 10/20 [00:29<00:29,  2.96s/it]"
     ]
    },
    {
     "name": "stdout",
     "output_type": "stream",
     "text": [
      "Train Loss: 0.6085, Train Accuracy: 0.8207\n",
      "Test Loss: 0.4921, Test Accuracy: 0.8663\n",
      "\n"
     ]
    },
    {
     "name": "stderr",
     "output_type": "stream",
     "text": [
      "Epochs:  55%|█████▌    | 11/20 [00:32<00:26,  2.95s/it]"
     ]
    },
    {
     "name": "stdout",
     "output_type": "stream",
     "text": [
      "Train Loss: 0.5812, Train Accuracy: 0.8288\n",
      "Test Loss: 0.4738, Test Accuracy: 0.8706\n",
      "\n"
     ]
    },
    {
     "name": "stderr",
     "output_type": "stream",
     "text": [
      "Epochs:  60%|██████    | 12/20 [00:35<00:23,  2.95s/it]"
     ]
    },
    {
     "name": "stdout",
     "output_type": "stream",
     "text": [
      "Train Loss: 0.5576, Train Accuracy: 0.8358\n",
      "Test Loss: 0.4578, Test Accuracy: 0.8745\n",
      "\n"
     ]
    },
    {
     "name": "stderr",
     "output_type": "stream",
     "text": [
      "Epochs:  65%|██████▌   | 13/20 [00:38<00:20,  2.96s/it]"
     ]
    },
    {
     "name": "stdout",
     "output_type": "stream",
     "text": [
      "Train Loss: 0.5371, Train Accuracy: 0.8419\n",
      "Test Loss: 0.4440, Test Accuracy: 0.8778\n",
      "\n"
     ]
    },
    {
     "name": "stderr",
     "output_type": "stream",
     "text": [
      "Epochs:  70%|███████   | 14/20 [00:41<00:17,  2.96s/it]"
     ]
    },
    {
     "name": "stdout",
     "output_type": "stream",
     "text": [
      "Train Loss: 0.5189, Train Accuracy: 0.8473\n",
      "Test Loss: 0.4318, Test Accuracy: 0.8810\n",
      "\n"
     ]
    },
    {
     "name": "stderr",
     "output_type": "stream",
     "text": [
      "Epochs:  75%|███████▌  | 15/20 [00:44<00:14,  2.96s/it]"
     ]
    },
    {
     "name": "stdout",
     "output_type": "stream",
     "text": [
      "Train Loss: 0.5027, Train Accuracy: 0.8521\n",
      "Test Loss: 0.4206, Test Accuracy: 0.8838\n",
      "\n"
     ]
    },
    {
     "name": "stderr",
     "output_type": "stream",
     "text": [
      "Epochs:  80%|████████  | 16/20 [00:47<00:11,  2.96s/it]"
     ]
    },
    {
     "name": "stdout",
     "output_type": "stream",
     "text": [
      "Train Loss: 0.4881, Train Accuracy: 0.8564\n",
      "Test Loss: 0.4105, Test Accuracy: 0.8863\n",
      "\n"
     ]
    },
    {
     "name": "stderr",
     "output_type": "stream",
     "text": [
      "Epochs:  85%|████████▌ | 17/20 [00:50<00:08,  2.96s/it]"
     ]
    },
    {
     "name": "stdout",
     "output_type": "stream",
     "text": [
      "Train Loss: 0.4749, Train Accuracy: 0.8604\n",
      "Test Loss: 0.4013, Test Accuracy: 0.8887\n",
      "\n"
     ]
    },
    {
     "name": "stderr",
     "output_type": "stream",
     "text": [
      "Epochs:  90%|█████████ | 18/20 [00:53<00:05,  2.96s/it]"
     ]
    },
    {
     "name": "stdout",
     "output_type": "stream",
     "text": [
      "Train Loss: 0.4628, Train Accuracy: 0.8640\n",
      "Test Loss: 0.3930, Test Accuracy: 0.8908\n",
      "\n"
     ]
    },
    {
     "name": "stderr",
     "output_type": "stream",
     "text": [
      "Epochs:  95%|█████████▌| 19/20 [00:56<00:02,  2.95s/it]"
     ]
    },
    {
     "name": "stdout",
     "output_type": "stream",
     "text": [
      "Train Loss: 0.4517, Train Accuracy: 0.8673\n",
      "Test Loss: 0.3852, Test Accuracy: 0.8928\n",
      "\n"
     ]
    },
    {
     "name": "stderr",
     "output_type": "stream",
     "text": [
      "Epochs: 100%|██████████| 20/20 [00:59<00:00,  2.98s/it]\n"
     ]
    },
    {
     "name": "stdout",
     "output_type": "stream",
     "text": [
      "Train Loss: 0.4414, Train Accuracy: 0.8703\n",
      "Test Loss: 0.3782, Test Accuracy: 0.8945\n",
      "\n"
     ]
    },
    {
     "name": "stderr",
     "output_type": "stream",
     "text": [
      "Epochs:   0%|          | 0/20 [00:00<?, ?it/s]2023-11-20 13:47:52.357992: I tensorflow/core/common_runtime/executor.cc:1197] [/device:CPU:0] (DEBUG INFO) Executor start aborting (this does not indicate an error and you can ignore this message): INVALID_ARGUMENT: You must feed a value for placeholder tensor 'Placeholder/_1' with dtype string and shape [1]\n",
      "\t [[{{node Placeholder/_1}}]]\n",
      "2023-11-20 13:47:52.358657: I tensorflow/core/common_runtime/executor.cc:1197] [/device:CPU:0] (DEBUG INFO) Executor start aborting (this does not indicate an error and you can ignore this message): INVALID_ARGUMENT: You must feed a value for placeholder tensor 'Placeholder/_2' with dtype string and shape [1]\n",
      "\t [[{{node Placeholder/_2}}]]\n",
      "2023-11-20 13:47:55.568359: I tensorflow/core/common_runtime/executor.cc:1197] [/device:CPU:0] (DEBUG INFO) Executor start aborting (this does not indicate an error and you can ignore this message): INVALID_ARGUMENT: You must feed a value for placeholder tensor 'Placeholder/_1' with dtype string and shape [1]\n",
      "\t [[{{node Placeholder/_1}}]]\n",
      "2023-11-20 13:47:55.568934: I tensorflow/core/common_runtime/executor.cc:1197] [/device:CPU:0] (DEBUG INFO) Executor start aborting (this does not indicate an error and you can ignore this message): INVALID_ARGUMENT: You must feed a value for placeholder tensor 'Placeholder/_2' with dtype string and shape [1]\n",
      "\t [[{{node Placeholder/_2}}]]\n",
      "Epochs:   5%|▌         | 1/20 [00:03<01:09,  3.68s/it]"
     ]
    },
    {
     "name": "stdout",
     "output_type": "stream",
     "text": [
      "Train Loss: 0.5053, Train Accuracy: 0.8453\n",
      "Test Loss: 0.3052, Test Accuracy: 0.9163\n",
      "\n"
     ]
    },
    {
     "name": "stderr",
     "output_type": "stream",
     "text": [
      "Epochs:  10%|█         | 2/20 [00:07<01:05,  3.66s/it]"
     ]
    },
    {
     "name": "stdout",
     "output_type": "stream",
     "text": [
      "Train Loss: 0.4018, Train Accuracy: 0.8788\n",
      "Test Loss: 0.2856, Test Accuracy: 0.9202\n",
      "\n"
     ]
    },
    {
     "name": "stderr",
     "output_type": "stream",
     "text": [
      "Epochs:  15%|█▌        | 3/20 [00:10<01:01,  3.63s/it]"
     ]
    },
    {
     "name": "stdout",
     "output_type": "stream",
     "text": [
      "Train Loss: 0.3531, Train Accuracy: 0.8942\n",
      "Test Loss: 0.2697, Test Accuracy: 0.9242\n",
      "\n"
     ]
    },
    {
     "name": "stderr",
     "output_type": "stream",
     "text": [
      "Epochs:  20%|██        | 4/20 [00:14<00:57,  3.62s/it]"
     ]
    },
    {
     "name": "stdout",
     "output_type": "stream",
     "text": [
      "Train Loss: 0.3212, Train Accuracy: 0.9046\n",
      "Test Loss: 0.2548, Test Accuracy: 0.9275\n",
      "\n"
     ]
    },
    {
     "name": "stderr",
     "output_type": "stream",
     "text": [
      "Epochs:  25%|██▌       | 5/20 [00:18<00:54,  3.61s/it]"
     ]
    },
    {
     "name": "stdout",
     "output_type": "stream",
     "text": [
      "Train Loss: 0.2970, Train Accuracy: 0.9123\n",
      "Test Loss: 0.2422, Test Accuracy: 0.9308\n",
      "\n"
     ]
    },
    {
     "name": "stderr",
     "output_type": "stream",
     "text": [
      "Epochs:  30%|███       | 6/20 [00:21<00:50,  3.63s/it]"
     ]
    },
    {
     "name": "stdout",
     "output_type": "stream",
     "text": [
      "Train Loss: 0.2777, Train Accuracy: 0.9183\n",
      "Test Loss: 0.2320, Test Accuracy: 0.9339\n",
      "\n"
     ]
    },
    {
     "name": "stderr",
     "output_type": "stream",
     "text": [
      "Epochs:  35%|███▌      | 7/20 [00:25<00:47,  3.63s/it]"
     ]
    },
    {
     "name": "stdout",
     "output_type": "stream",
     "text": [
      "Train Loss: 0.2618, Train Accuracy: 0.9232\n",
      "Test Loss: 0.2219, Test Accuracy: 0.9368\n",
      "\n"
     ]
    },
    {
     "name": "stderr",
     "output_type": "stream",
     "text": [
      "Epochs:  40%|████      | 8/20 [00:29<00:43,  3.64s/it]"
     ]
    },
    {
     "name": "stdout",
     "output_type": "stream",
     "text": [
      "Train Loss: 0.2483, Train Accuracy: 0.9273\n",
      "Test Loss: 0.2130, Test Accuracy: 0.9391\n",
      "\n"
     ]
    },
    {
     "name": "stderr",
     "output_type": "stream",
     "text": [
      "Epochs:  45%|████▌     | 9/20 [00:32<00:40,  3.64s/it]"
     ]
    },
    {
     "name": "stdout",
     "output_type": "stream",
     "text": [
      "Train Loss: 0.2365, Train Accuracy: 0.9308\n",
      "Test Loss: 0.2051, Test Accuracy: 0.9412\n",
      "\n"
     ]
    },
    {
     "name": "stderr",
     "output_type": "stream",
     "text": [
      "Epochs:  50%|█████     | 10/20 [00:36<00:37,  3.71s/it]"
     ]
    },
    {
     "name": "stdout",
     "output_type": "stream",
     "text": [
      "Train Loss: 0.2262, Train Accuracy: 0.9338\n",
      "Test Loss: 0.1984, Test Accuracy: 0.9429\n",
      "\n"
     ]
    },
    {
     "name": "stderr",
     "output_type": "stream",
     "text": [
      "Epochs:  55%|█████▌    | 11/20 [00:40<00:33,  3.68s/it]"
     ]
    },
    {
     "name": "stdout",
     "output_type": "stream",
     "text": [
      "Train Loss: 0.2170, Train Accuracy: 0.9365\n",
      "Test Loss: 0.1922, Test Accuracy: 0.9446\n",
      "\n"
     ]
    },
    {
     "name": "stderr",
     "output_type": "stream",
     "text": [
      "Epochs:  60%|██████    | 12/20 [00:43<00:29,  3.68s/it]"
     ]
    },
    {
     "name": "stdout",
     "output_type": "stream",
     "text": [
      "Train Loss: 0.2088, Train Accuracy: 0.9389\n",
      "Test Loss: 0.1866, Test Accuracy: 0.9460\n",
      "\n"
     ]
    },
    {
     "name": "stderr",
     "output_type": "stream",
     "text": [
      "Epochs:  65%|██████▌   | 13/20 [00:47<00:25,  3.67s/it]"
     ]
    },
    {
     "name": "stdout",
     "output_type": "stream",
     "text": [
      "Train Loss: 0.2013, Train Accuracy: 0.9411\n",
      "Test Loss: 0.1820, Test Accuracy: 0.9473\n",
      "\n"
     ]
    },
    {
     "name": "stderr",
     "output_type": "stream",
     "text": [
      "Epochs:  70%|███████   | 14/20 [00:51<00:22,  3.68s/it]"
     ]
    },
    {
     "name": "stdout",
     "output_type": "stream",
     "text": [
      "Train Loss: 0.1945, Train Accuracy: 0.9431\n",
      "Test Loss: 0.1773, Test Accuracy: 0.9485\n",
      "\n"
     ]
    },
    {
     "name": "stderr",
     "output_type": "stream",
     "text": [
      "Epochs:  75%|███████▌  | 15/20 [00:54<00:18,  3.66s/it]"
     ]
    },
    {
     "name": "stdout",
     "output_type": "stream",
     "text": [
      "Train Loss: 0.1883, Train Accuracy: 0.9449\n",
      "Test Loss: 0.1732, Test Accuracy: 0.9496\n",
      "\n"
     ]
    },
    {
     "name": "stderr",
     "output_type": "stream",
     "text": [
      "Epochs:  80%|████████  | 16/20 [00:58<00:14,  3.65s/it]"
     ]
    },
    {
     "name": "stdout",
     "output_type": "stream",
     "text": [
      "Train Loss: 0.1826, Train Accuracy: 0.9466\n",
      "Test Loss: 0.1698, Test Accuracy: 0.9505\n",
      "\n"
     ]
    },
    {
     "name": "stderr",
     "output_type": "stream",
     "text": [
      "Epochs:  85%|████████▌ | 17/20 [01:02<00:10,  3.66s/it]"
     ]
    },
    {
     "name": "stdout",
     "output_type": "stream",
     "text": [
      "Train Loss: 0.1772, Train Accuracy: 0.9482\n",
      "Test Loss: 0.1663, Test Accuracy: 0.9514\n",
      "\n"
     ]
    },
    {
     "name": "stderr",
     "output_type": "stream",
     "text": [
      "Epochs:  90%|█████████ | 18/20 [01:05<00:07,  3.65s/it]"
     ]
    },
    {
     "name": "stdout",
     "output_type": "stream",
     "text": [
      "Train Loss: 0.1724, Train Accuracy: 0.9496\n",
      "Test Loss: 0.1630, Test Accuracy: 0.9523\n",
      "\n"
     ]
    },
    {
     "name": "stderr",
     "output_type": "stream",
     "text": [
      "Epochs:  95%|█████████▌| 19/20 [01:09<00:03,  3.65s/it]"
     ]
    },
    {
     "name": "stdout",
     "output_type": "stream",
     "text": [
      "Train Loss: 0.1678, Train Accuracy: 0.9509\n",
      "Test Loss: 0.1598, Test Accuracy: 0.9531\n",
      "\n"
     ]
    },
    {
     "name": "stderr",
     "output_type": "stream",
     "text": [
      "Epochs: 100%|██████████| 20/20 [01:13<00:00,  3.66s/it]\n"
     ]
    },
    {
     "name": "stdout",
     "output_type": "stream",
     "text": [
      "Train Loss: 0.1635, Train Accuracy: 0.9522\n",
      "Test Loss: 0.1573, Test Accuracy: 0.9538\n",
      "\n"
     ]
    },
    {
     "name": "stderr",
     "output_type": "stream",
     "text": [
      "Epochs:   0%|          | 0/20 [00:00<?, ?it/s]2023-11-20 13:49:05.524556: I tensorflow/core/common_runtime/executor.cc:1197] [/device:CPU:0] (DEBUG INFO) Executor start aborting (this does not indicate an error and you can ignore this message): INVALID_ARGUMENT: You must feed a value for placeholder tensor 'Placeholder/_4' with dtype int64 and shape [1]\n",
      "\t [[{{node Placeholder/_4}}]]\n",
      "2023-11-20 13:49:05.525444: I tensorflow/core/common_runtime/executor.cc:1197] [/device:CPU:0] (DEBUG INFO) Executor start aborting (this does not indicate an error and you can ignore this message): INVALID_ARGUMENT: You must feed a value for placeholder tensor 'Placeholder/_3' with dtype int64 and shape [1]\n",
      "\t [[{{node Placeholder/_3}}]]\n",
      "2023-11-20 13:49:07.745555: I tensorflow/core/common_runtime/executor.cc:1197] [/device:CPU:0] (DEBUG INFO) Executor start aborting (this does not indicate an error and you can ignore this message): INVALID_ARGUMENT: You must feed a value for placeholder tensor 'Placeholder/_1' with dtype string and shape [1]\n",
      "\t [[{{node Placeholder/_1}}]]\n",
      "2023-11-20 13:49:07.746070: I tensorflow/core/common_runtime/executor.cc:1197] [/device:CPU:0] (DEBUG INFO) Executor start aborting (this does not indicate an error and you can ignore this message): INVALID_ARGUMENT: You must feed a value for placeholder tensor 'Placeholder/_1' with dtype string and shape [1]\n",
      "\t [[{{node Placeholder/_1}}]]\n",
      "Epochs:   5%|▌         | 1/20 [00:02<00:49,  2.59s/it]"
     ]
    },
    {
     "name": "stdout",
     "output_type": "stream",
     "text": [
      "Train Loss: 0.6670, Train Accuracy: 0.7969\n",
      "Test Loss: 0.3395, Test Accuracy: 0.9020\n",
      "\n"
     ]
    },
    {
     "name": "stderr",
     "output_type": "stream",
     "text": [
      "Epochs:  10%|█         | 2/20 [00:05<00:46,  2.56s/it]"
     ]
    },
    {
     "name": "stdout",
     "output_type": "stream",
     "text": [
      "Train Loss: 0.4964, Train Accuracy: 0.8507\n",
      "Test Loss: 0.3169, Test Accuracy: 0.9093\n",
      "\n"
     ]
    },
    {
     "name": "stderr",
     "output_type": "stream",
     "text": [
      "Epochs:  15%|█▌        | 3/20 [00:07<00:43,  2.55s/it]"
     ]
    },
    {
     "name": "stdout",
     "output_type": "stream",
     "text": [
      "Train Loss: 0.4253, Train Accuracy: 0.8732\n",
      "Test Loss: 0.2979, Test Accuracy: 0.9150\n",
      "\n"
     ]
    },
    {
     "name": "stderr",
     "output_type": "stream",
     "text": [
      "Epochs:  20%|██        | 4/20 [00:10<00:40,  2.54s/it]"
     ]
    },
    {
     "name": "stdout",
     "output_type": "stream",
     "text": [
      "Train Loss: 0.3824, Train Accuracy: 0.8865\n",
      "Test Loss: 0.2820, Test Accuracy: 0.9200\n",
      "\n"
     ]
    },
    {
     "name": "stderr",
     "output_type": "stream",
     "text": [
      "Epochs:  25%|██▌       | 5/20 [00:12<00:38,  2.54s/it]"
     ]
    },
    {
     "name": "stdout",
     "output_type": "stream",
     "text": [
      "Train Loss: 0.3519, Train Accuracy: 0.8958\n",
      "Test Loss: 0.2693, Test Accuracy: 0.9236\n",
      "\n"
     ]
    },
    {
     "name": "stderr",
     "output_type": "stream",
     "text": [
      "Epochs:  30%|███       | 6/20 [00:15<00:35,  2.54s/it]"
     ]
    },
    {
     "name": "stdout",
     "output_type": "stream",
     "text": [
      "Train Loss: 0.3282, Train Accuracy: 0.9031\n",
      "Test Loss: 0.2578, Test Accuracy: 0.9265\n",
      "\n"
     ]
    },
    {
     "name": "stderr",
     "output_type": "stream",
     "text": [
      "Epochs:  35%|███▌      | 7/20 [00:17<00:32,  2.53s/it]"
     ]
    },
    {
     "name": "stdout",
     "output_type": "stream",
     "text": [
      "Train Loss: 0.3091, Train Accuracy: 0.9090\n",
      "Test Loss: 0.2475, Test Accuracy: 0.9289\n",
      "\n"
     ]
    },
    {
     "name": "stderr",
     "output_type": "stream",
     "text": [
      "Epochs:  40%|████      | 8/20 [00:20<00:30,  2.54s/it]"
     ]
    },
    {
     "name": "stdout",
     "output_type": "stream",
     "text": [
      "Train Loss: 0.2929, Train Accuracy: 0.9140\n",
      "Test Loss: 0.2389, Test Accuracy: 0.9311\n",
      "\n"
     ]
    },
    {
     "name": "stderr",
     "output_type": "stream",
     "text": [
      "Epochs:  45%|████▌     | 9/20 [00:22<00:27,  2.54s/it]"
     ]
    },
    {
     "name": "stdout",
     "output_type": "stream",
     "text": [
      "Train Loss: 0.2790, Train Accuracy: 0.9182\n",
      "Test Loss: 0.2306, Test Accuracy: 0.9334\n",
      "\n"
     ]
    },
    {
     "name": "stderr",
     "output_type": "stream",
     "text": [
      "Epochs:  50%|█████     | 10/20 [00:25<00:25,  2.55s/it]"
     ]
    },
    {
     "name": "stdout",
     "output_type": "stream",
     "text": [
      "Train Loss: 0.2668, Train Accuracy: 0.9219\n",
      "Test Loss: 0.2234, Test Accuracy: 0.9355\n",
      "\n"
     ]
    },
    {
     "name": "stderr",
     "output_type": "stream",
     "text": [
      "Epochs:  55%|█████▌    | 11/20 [00:27<00:22,  2.55s/it]"
     ]
    },
    {
     "name": "stdout",
     "output_type": "stream",
     "text": [
      "Train Loss: 0.2560, Train Accuracy: 0.9251\n",
      "Test Loss: 0.2166, Test Accuracy: 0.9373\n",
      "\n"
     ]
    },
    {
     "name": "stderr",
     "output_type": "stream",
     "text": [
      "Epochs:  60%|██████    | 12/20 [00:30<00:20,  2.55s/it]"
     ]
    },
    {
     "name": "stdout",
     "output_type": "stream",
     "text": [
      "Train Loss: 0.2463, Train Accuracy: 0.9281\n",
      "Test Loss: 0.2105, Test Accuracy: 0.9391\n",
      "\n"
     ]
    },
    {
     "name": "stderr",
     "output_type": "stream",
     "text": [
      "Epochs:  65%|██████▌   | 13/20 [00:33<00:17,  2.55s/it]"
     ]
    },
    {
     "name": "stdout",
     "output_type": "stream",
     "text": [
      "Train Loss: 0.2376, Train Accuracy: 0.9308\n",
      "Test Loss: 0.2053, Test Accuracy: 0.9406\n",
      "\n"
     ]
    },
    {
     "name": "stderr",
     "output_type": "stream",
     "text": [
      "Epochs:  70%|███████   | 14/20 [00:35<00:15,  2.55s/it]"
     ]
    },
    {
     "name": "stdout",
     "output_type": "stream",
     "text": [
      "Train Loss: 0.2297, Train Accuracy: 0.9332\n",
      "Test Loss: 0.2000, Test Accuracy: 0.9421\n",
      "\n"
     ]
    },
    {
     "name": "stderr",
     "output_type": "stream",
     "text": [
      "Epochs:  75%|███████▌  | 15/20 [00:38<00:12,  2.55s/it]"
     ]
    },
    {
     "name": "stdout",
     "output_type": "stream",
     "text": [
      "Train Loss: 0.2223, Train Accuracy: 0.9354\n",
      "Test Loss: 0.1952, Test Accuracy: 0.9434\n",
      "\n"
     ]
    },
    {
     "name": "stderr",
     "output_type": "stream",
     "text": [
      "Epochs:  80%|████████  | 16/20 [00:40<00:10,  2.55s/it]"
     ]
    },
    {
     "name": "stdout",
     "output_type": "stream",
     "text": [
      "Train Loss: 0.2156, Train Accuracy: 0.9374\n",
      "Test Loss: 0.1909, Test Accuracy: 0.9446\n",
      "\n"
     ]
    },
    {
     "name": "stderr",
     "output_type": "stream",
     "text": [
      "Epochs:  85%|████████▌ | 17/20 [00:43<00:07,  2.54s/it]"
     ]
    },
    {
     "name": "stdout",
     "output_type": "stream",
     "text": [
      "Train Loss: 0.2095, Train Accuracy: 0.9393\n",
      "Test Loss: 0.1868, Test Accuracy: 0.9457\n",
      "\n"
     ]
    },
    {
     "name": "stderr",
     "output_type": "stream",
     "text": [
      "Epochs:  90%|█████████ | 18/20 [00:45<00:05,  2.54s/it]"
     ]
    },
    {
     "name": "stdout",
     "output_type": "stream",
     "text": [
      "Train Loss: 0.2038, Train Accuracy: 0.9411\n",
      "Test Loss: 0.1830, Test Accuracy: 0.9467\n",
      "\n"
     ]
    },
    {
     "name": "stderr",
     "output_type": "stream",
     "text": [
      "Epochs:  95%|█████████▌| 19/20 [00:48<00:02,  2.55s/it]"
     ]
    },
    {
     "name": "stdout",
     "output_type": "stream",
     "text": [
      "Train Loss: 0.1984, Train Accuracy: 0.9427\n",
      "Test Loss: 0.1796, Test Accuracy: 0.9477\n",
      "\n"
     ]
    },
    {
     "name": "stderr",
     "output_type": "stream",
     "text": [
      "Epochs: 100%|██████████| 20/20 [00:50<00:00,  2.55s/it]\n"
     ]
    },
    {
     "name": "stdout",
     "output_type": "stream",
     "text": [
      "Train Loss: 0.1934, Train Accuracy: 0.9442\n",
      "Test Loss: 0.1763, Test Accuracy: 0.9486\n",
      "\n"
     ]
    },
    {
     "name": "stderr",
     "output_type": "stream",
     "text": [
      "Epochs:   0%|          | 0/20 [00:00<?, ?it/s]2023-11-20 13:49:56.503252: I tensorflow/core/common_runtime/executor.cc:1197] [/device:CPU:0] (DEBUG INFO) Executor start aborting (this does not indicate an error and you can ignore this message): INVALID_ARGUMENT: You must feed a value for placeholder tensor 'Placeholder/_4' with dtype int64 and shape [1]\n",
      "\t [[{{node Placeholder/_4}}]]\n",
      "2023-11-20 13:49:56.503888: I tensorflow/core/common_runtime/executor.cc:1197] [/device:CPU:0] (DEBUG INFO) Executor start aborting (this does not indicate an error and you can ignore this message): INVALID_ARGUMENT: You must feed a value for placeholder tensor 'Placeholder/_1' with dtype string and shape [1]\n",
      "\t [[{{node Placeholder/_1}}]]\n",
      "2023-11-20 13:50:00.560661: I tensorflow/core/common_runtime/executor.cc:1197] [/device:CPU:0] (DEBUG INFO) Executor start aborting (this does not indicate an error and you can ignore this message): INVALID_ARGUMENT: You must feed a value for placeholder tensor 'Placeholder/_1' with dtype string and shape [1]\n",
      "\t [[{{node Placeholder/_1}}]]\n",
      "2023-11-20 13:50:00.561255: I tensorflow/core/common_runtime/executor.cc:1197] [/device:CPU:0] (DEBUG INFO) Executor start aborting (this does not indicate an error and you can ignore this message): INVALID_ARGUMENT: You must feed a value for placeholder tensor 'Placeholder/_0' with dtype string and shape [1]\n",
      "\t [[{{node Placeholder/_0}}]]\n",
      "Epochs:   5%|▌         | 1/20 [00:04<01:25,  4.48s/it]"
     ]
    },
    {
     "name": "stdout",
     "output_type": "stream",
     "text": [
      "Train Loss: 0.5843, Train Accuracy: 0.8169\n",
      "Test Loss: 0.2245, Test Accuracy: 0.9323\n",
      "\n"
     ]
    },
    {
     "name": "stderr",
     "output_type": "stream",
     "text": [
      "Epochs:  10%|█         | 2/20 [00:08<01:20,  4.49s/it]"
     ]
    },
    {
     "name": "stdout",
     "output_type": "stream",
     "text": [
      "Train Loss: 0.3886, Train Accuracy: 0.8795\n",
      "Test Loss: 0.1978, Test Accuracy: 0.9394\n",
      "\n"
     ]
    },
    {
     "name": "stderr",
     "output_type": "stream",
     "text": [
      "Epochs:  15%|█▌        | 3/20 [00:13<01:16,  4.47s/it]"
     ]
    },
    {
     "name": "stdout",
     "output_type": "stream",
     "text": [
      "Train Loss: 0.3060, Train Accuracy: 0.9053\n",
      "Test Loss: 0.1783, Test Accuracy: 0.9455\n",
      "\n"
     ]
    },
    {
     "name": "stderr",
     "output_type": "stream",
     "text": [
      "Epochs:  20%|██        | 4/20 [00:17<01:11,  4.48s/it]"
     ]
    },
    {
     "name": "stdout",
     "output_type": "stream",
     "text": [
      "Train Loss: 0.2583, Train Accuracy: 0.9201\n",
      "Test Loss: 0.1645, Test Accuracy: 0.9499\n",
      "\n"
     ]
    },
    {
     "name": "stderr",
     "output_type": "stream",
     "text": [
      "Epochs:  25%|██▌       | 5/20 [00:22<01:07,  4.49s/it]"
     ]
    },
    {
     "name": "stdout",
     "output_type": "stream",
     "text": [
      "Train Loss: 0.2250, Train Accuracy: 0.9304\n",
      "Test Loss: 0.1522, Test Accuracy: 0.9536\n",
      "\n"
     ]
    },
    {
     "name": "stderr",
     "output_type": "stream",
     "text": [
      "Epochs:  30%|███       | 6/20 [00:26<01:02,  4.47s/it]"
     ]
    },
    {
     "name": "stdout",
     "output_type": "stream",
     "text": [
      "Train Loss: 0.1998, Train Accuracy: 0.9382\n",
      "Test Loss: 0.1435, Test Accuracy: 0.9560\n",
      "\n"
     ]
    },
    {
     "name": "stderr",
     "output_type": "stream",
     "text": [
      "Epochs:  35%|███▌      | 7/20 [00:31<00:58,  4.47s/it]"
     ]
    },
    {
     "name": "stdout",
     "output_type": "stream",
     "text": [
      "Train Loss: 0.1806, Train Accuracy: 0.9441\n",
      "Test Loss: 0.1375, Test Accuracy: 0.9578\n",
      "\n"
     ]
    },
    {
     "name": "stderr",
     "output_type": "stream",
     "text": [
      "Epochs:  40%|████      | 8/20 [00:35<00:53,  4.48s/it]"
     ]
    },
    {
     "name": "stdout",
     "output_type": "stream",
     "text": [
      "Train Loss: 0.1650, Train Accuracy: 0.9489\n",
      "Test Loss: 0.1315, Test Accuracy: 0.9598\n",
      "\n"
     ]
    },
    {
     "name": "stderr",
     "output_type": "stream",
     "text": [
      "Epochs:  45%|████▌     | 9/20 [00:40<00:49,  4.47s/it]"
     ]
    },
    {
     "name": "stdout",
     "output_type": "stream",
     "text": [
      "Train Loss: 0.1526, Train Accuracy: 0.9527\n",
      "Test Loss: 0.1274, Test Accuracy: 0.9610\n",
      "\n"
     ]
    },
    {
     "name": "stderr",
     "output_type": "stream",
     "text": [
      "Epochs:  50%|█████     | 10/20 [00:44<00:44,  4.47s/it]"
     ]
    },
    {
     "name": "stdout",
     "output_type": "stream",
     "text": [
      "Train Loss: 0.1419, Train Accuracy: 0.9560\n",
      "Test Loss: 0.1231, Test Accuracy: 0.9624\n",
      "\n"
     ]
    },
    {
     "name": "stderr",
     "output_type": "stream",
     "text": [
      "Epochs:  55%|█████▌    | 11/20 [00:49<00:40,  4.49s/it]"
     ]
    },
    {
     "name": "stdout",
     "output_type": "stream",
     "text": [
      "Train Loss: 0.1328, Train Accuracy: 0.9587\n",
      "Test Loss: 0.1196, Test Accuracy: 0.9636\n",
      "\n"
     ]
    },
    {
     "name": "stderr",
     "output_type": "stream",
     "text": [
      "Epochs:  60%|██████    | 12/20 [00:53<00:35,  4.48s/it]"
     ]
    },
    {
     "name": "stdout",
     "output_type": "stream",
     "text": [
      "Train Loss: 0.1246, Train Accuracy: 0.9613\n",
      "Test Loss: 0.1165, Test Accuracy: 0.9645\n",
      "\n"
     ]
    },
    {
     "name": "stderr",
     "output_type": "stream",
     "text": [
      "Epochs:  65%|██████▌   | 13/20 [00:58<00:31,  4.49s/it]"
     ]
    },
    {
     "name": "stdout",
     "output_type": "stream",
     "text": [
      "Train Loss: 0.1172, Train Accuracy: 0.9635\n",
      "Test Loss: 0.1140, Test Accuracy: 0.9654\n",
      "\n"
     ]
    },
    {
     "name": "stderr",
     "output_type": "stream",
     "text": [
      "Epochs:  70%|███████   | 14/20 [01:02<00:26,  4.48s/it]"
     ]
    },
    {
     "name": "stdout",
     "output_type": "stream",
     "text": [
      "Train Loss: 0.1109, Train Accuracy: 0.9655\n",
      "Test Loss: 0.1118, Test Accuracy: 0.9663\n",
      "\n"
     ]
    },
    {
     "name": "stderr",
     "output_type": "stream",
     "text": [
      "Epochs:  75%|███████▌  | 15/20 [01:07<00:22,  4.47s/it]"
     ]
    },
    {
     "name": "stdout",
     "output_type": "stream",
     "text": [
      "Train Loss: 0.1056, Train Accuracy: 0.9671\n",
      "Test Loss: 0.1103, Test Accuracy: 0.9669\n",
      "\n"
     ]
    },
    {
     "name": "stderr",
     "output_type": "stream",
     "text": [
      "Epochs:  80%|████████  | 16/20 [01:11<00:17,  4.48s/it]"
     ]
    },
    {
     "name": "stdout",
     "output_type": "stream",
     "text": [
      "Train Loss: 0.1004, Train Accuracy: 0.9687\n",
      "Test Loss: 0.1088, Test Accuracy: 0.9675\n",
      "\n"
     ]
    },
    {
     "name": "stderr",
     "output_type": "stream",
     "text": [
      "Epochs:  85%|████████▌ | 17/20 [01:16<00:13,  4.49s/it]"
     ]
    },
    {
     "name": "stdout",
     "output_type": "stream",
     "text": [
      "Train Loss: 0.0960, Train Accuracy: 0.9700\n",
      "Test Loss: 0.1072, Test Accuracy: 0.9682\n",
      "\n"
     ]
    },
    {
     "name": "stderr",
     "output_type": "stream",
     "text": [
      "Epochs:  90%|█████████ | 18/20 [01:20<00:08,  4.48s/it]"
     ]
    },
    {
     "name": "stdout",
     "output_type": "stream",
     "text": [
      "Train Loss: 0.0917, Train Accuracy: 0.9713\n",
      "Test Loss: 0.1063, Test Accuracy: 0.9687\n",
      "\n"
     ]
    },
    {
     "name": "stderr",
     "output_type": "stream",
     "text": [
      "Epochs:  95%|█████████▌| 19/20 [01:25<00:04,  4.48s/it]"
     ]
    },
    {
     "name": "stdout",
     "output_type": "stream",
     "text": [
      "Train Loss: 0.0879, Train Accuracy: 0.9725\n",
      "Test Loss: 0.1058, Test Accuracy: 0.9690\n",
      "\n"
     ]
    },
    {
     "name": "stderr",
     "output_type": "stream",
     "text": [
      "Epochs: 100%|██████████| 20/20 [01:29<00:00,  4.48s/it]\n"
     ]
    },
    {
     "name": "stdout",
     "output_type": "stream",
     "text": [
      "Train Loss: 0.0844, Train Accuracy: 0.9735\n",
      "Test Loss: 0.1044, Test Accuracy: 0.9695\n",
      "\n"
     ]
    },
    {
     "name": "stderr",
     "output_type": "stream",
     "text": [
      "Epochs:   0%|          | 0/20 [00:00<?, ?it/s]2023-11-20 13:51:26.148422: I tensorflow/core/common_runtime/executor.cc:1197] [/device:CPU:0] (DEBUG INFO) Executor start aborting (this does not indicate an error and you can ignore this message): INVALID_ARGUMENT: You must feed a value for placeholder tensor 'Placeholder/_1' with dtype string and shape [1]\n",
      "\t [[{{node Placeholder/_1}}]]\n",
      "2023-11-20 13:51:26.149069: I tensorflow/core/common_runtime/executor.cc:1197] [/device:CPU:0] (DEBUG INFO) Executor start aborting (this does not indicate an error and you can ignore this message): INVALID_ARGUMENT: You must feed a value for placeholder tensor 'Placeholder/_1' with dtype string and shape [1]\n",
      "\t [[{{node Placeholder/_1}}]]\n",
      "2023-11-20 13:51:32.596616: I tensorflow/core/common_runtime/executor.cc:1197] [/device:CPU:0] (DEBUG INFO) Executor start aborting (this does not indicate an error and you can ignore this message): INVALID_ARGUMENT: You must feed a value for placeholder tensor 'Placeholder/_1' with dtype string and shape [1]\n",
      "\t [[{{node Placeholder/_1}}]]\n",
      "2023-11-20 13:51:32.597169: I tensorflow/core/common_runtime/executor.cc:1197] [/device:CPU:0] (DEBUG INFO) Executor start aborting (this does not indicate an error and you can ignore this message): INVALID_ARGUMENT: You must feed a value for placeholder tensor 'Placeholder/_2' with dtype string and shape [1]\n",
      "\t [[{{node Placeholder/_2}}]]\n",
      "Epochs:   5%|▌         | 1/20 [00:06<02:12,  6.99s/it]"
     ]
    },
    {
     "name": "stdout",
     "output_type": "stream",
     "text": [
      "Train Loss: 0.3501, Train Accuracy: 0.8894\n",
      "Test Loss: 0.1681, Test Accuracy: 0.9473\n",
      "\n"
     ]
    },
    {
     "name": "stderr",
     "output_type": "stream",
     "text": [
      "Epochs:  10%|█         | 2/20 [00:13<02:05,  7.00s/it]"
     ]
    },
    {
     "name": "stdout",
     "output_type": "stream",
     "text": [
      "Train Loss: 0.2497, Train Accuracy: 0.9215\n",
      "Test Loss: 0.1466, Test Accuracy: 0.9540\n",
      "\n"
     ]
    },
    {
     "name": "stderr",
     "output_type": "stream",
     "text": [
      "Epochs:  15%|█▌        | 3/20 [00:20<01:58,  6.97s/it]"
     ]
    },
    {
     "name": "stdout",
     "output_type": "stream",
     "text": [
      "Train Loss: 0.2027, Train Accuracy: 0.9365\n",
      "Test Loss: 0.1373, Test Accuracy: 0.9573\n",
      "\n"
     ]
    },
    {
     "name": "stderr",
     "output_type": "stream",
     "text": [
      "Epochs:  20%|██        | 4/20 [00:27<01:51,  6.96s/it]"
     ]
    },
    {
     "name": "stdout",
     "output_type": "stream",
     "text": [
      "Train Loss: 0.1748, Train Accuracy: 0.9450\n",
      "Test Loss: 0.1328, Test Accuracy: 0.9587\n",
      "\n"
     ]
    },
    {
     "name": "stderr",
     "output_type": "stream",
     "text": [
      "Epochs:  25%|██▌       | 5/20 [00:34<01:44,  6.95s/it]"
     ]
    },
    {
     "name": "stdout",
     "output_type": "stream",
     "text": [
      "Train Loss: 0.1556, Train Accuracy: 0.9512\n",
      "Test Loss: 0.1265, Test Accuracy: 0.9601\n",
      "\n"
     ]
    },
    {
     "name": "stderr",
     "output_type": "stream",
     "text": [
      "Epochs:  30%|███       | 6/20 [00:41<01:37,  6.94s/it]"
     ]
    },
    {
     "name": "stdout",
     "output_type": "stream",
     "text": [
      "Train Loss: 0.1406, Train Accuracy: 0.9557\n",
      "Test Loss: 0.1219, Test Accuracy: 0.9620\n",
      "\n"
     ]
    },
    {
     "name": "stderr",
     "output_type": "stream",
     "text": [
      "Epochs:  35%|███▌      | 7/20 [00:48<01:30,  6.95s/it]"
     ]
    },
    {
     "name": "stdout",
     "output_type": "stream",
     "text": [
      "Train Loss: 0.1295, Train Accuracy: 0.9592\n",
      "Test Loss: 0.1193, Test Accuracy: 0.9632\n",
      "\n"
     ]
    },
    {
     "name": "stderr",
     "output_type": "stream",
     "text": [
      "Epochs:  40%|████      | 8/20 [00:55<01:23,  6.95s/it]"
     ]
    },
    {
     "name": "stdout",
     "output_type": "stream",
     "text": [
      "Train Loss: 0.1204, Train Accuracy: 0.9620\n",
      "Test Loss: 0.1189, Test Accuracy: 0.9636\n",
      "\n"
     ]
    },
    {
     "name": "stderr",
     "output_type": "stream",
     "text": [
      "Epochs:  45%|████▌     | 9/20 [01:02<01:16,  6.95s/it]"
     ]
    },
    {
     "name": "stdout",
     "output_type": "stream",
     "text": [
      "Train Loss: 0.1125, Train Accuracy: 0.9644\n",
      "Test Loss: 0.1189, Test Accuracy: 0.9641\n",
      "\n"
     ]
    },
    {
     "name": "stderr",
     "output_type": "stream",
     "text": [
      "Epochs:  50%|█████     | 10/20 [01:09<01:09,  6.93s/it]"
     ]
    },
    {
     "name": "stdout",
     "output_type": "stream",
     "text": [
      "Train Loss: 0.1064, Train Accuracy: 0.9662\n",
      "Test Loss: 0.1169, Test Accuracy: 0.9648\n",
      "\n"
     ]
    },
    {
     "name": "stderr",
     "output_type": "stream",
     "text": [
      "Epochs:  55%|█████▌    | 11/20 [01:16<01:02,  6.92s/it]"
     ]
    },
    {
     "name": "stdout",
     "output_type": "stream",
     "text": [
      "Train Loss: 0.1006, Train Accuracy: 0.9680\n",
      "Test Loss: 0.1136, Test Accuracy: 0.9660\n",
      "\n"
     ]
    },
    {
     "name": "stderr",
     "output_type": "stream",
     "text": [
      "Epochs:  60%|██████    | 12/20 [01:23<00:55,  6.92s/it]"
     ]
    },
    {
     "name": "stdout",
     "output_type": "stream",
     "text": [
      "Train Loss: 0.0954, Train Accuracy: 0.9696\n",
      "Test Loss: 0.1137, Test Accuracy: 0.9662\n",
      "\n"
     ]
    },
    {
     "name": "stderr",
     "output_type": "stream",
     "text": [
      "Epochs:  65%|██████▌   | 13/20 [01:30<00:48,  6.90s/it]"
     ]
    },
    {
     "name": "stdout",
     "output_type": "stream",
     "text": [
      "Train Loss: 0.0911, Train Accuracy: 0.9710\n",
      "Test Loss: 0.1114, Test Accuracy: 0.9670\n",
      "\n"
     ]
    },
    {
     "name": "stderr",
     "output_type": "stream",
     "text": [
      "Epochs:  70%|███████   | 14/20 [01:37<00:41,  6.91s/it]"
     ]
    },
    {
     "name": "stdout",
     "output_type": "stream",
     "text": [
      "Train Loss: 0.0872, Train Accuracy: 0.9722\n",
      "Test Loss: 0.1107, Test Accuracy: 0.9676\n",
      "\n"
     ]
    },
    {
     "name": "stderr",
     "output_type": "stream",
     "text": [
      "Epochs:  75%|███████▌  | 15/20 [01:44<00:34,  6.95s/it]"
     ]
    },
    {
     "name": "stdout",
     "output_type": "stream",
     "text": [
      "Train Loss: 0.0834, Train Accuracy: 0.9734\n",
      "Test Loss: 0.1100, Test Accuracy: 0.9681\n",
      "\n"
     ]
    },
    {
     "name": "stderr",
     "output_type": "stream",
     "text": [
      "Epochs:  80%|████████  | 16/20 [01:51<00:27,  6.96s/it]"
     ]
    },
    {
     "name": "stdout",
     "output_type": "stream",
     "text": [
      "Train Loss: 0.0804, Train Accuracy: 0.9743\n",
      "Test Loss: 0.1105, Test Accuracy: 0.9685\n",
      "\n"
     ]
    },
    {
     "name": "stderr",
     "output_type": "stream",
     "text": [
      "Epochs:  85%|████████▌ | 17/20 [01:57<00:20,  6.92s/it]"
     ]
    },
    {
     "name": "stdout",
     "output_type": "stream",
     "text": [
      "Train Loss: 0.0779, Train Accuracy: 0.9751\n",
      "Test Loss: 0.1097, Test Accuracy: 0.9689\n",
      "\n"
     ]
    },
    {
     "name": "stderr",
     "output_type": "stream",
     "text": [
      "Epochs:  90%|█████████ | 18/20 [02:04<00:13,  6.93s/it]"
     ]
    },
    {
     "name": "stdout",
     "output_type": "stream",
     "text": [
      "Train Loss: 0.0752, Train Accuracy: 0.9760\n",
      "Test Loss: 0.1086, Test Accuracy: 0.9694\n",
      "\n"
     ]
    },
    {
     "name": "stderr",
     "output_type": "stream",
     "text": [
      "Epochs:  95%|█████████▌| 19/20 [02:11<00:06,  6.93s/it]"
     ]
    },
    {
     "name": "stdout",
     "output_type": "stream",
     "text": [
      "Train Loss: 0.0727, Train Accuracy: 0.9767\n",
      "Test Loss: 0.1084, Test Accuracy: 0.9698\n",
      "\n"
     ]
    },
    {
     "name": "stderr",
     "output_type": "stream",
     "text": [
      "Epochs: 100%|██████████| 20/20 [02:18<00:00,  6.94s/it]\n"
     ]
    },
    {
     "name": "stdout",
     "output_type": "stream",
     "text": [
      "Train Loss: 0.0703, Train Accuracy: 0.9775\n",
      "Test Loss: 0.1089, Test Accuracy: 0.9701\n",
      "\n"
     ]
    },
    {
     "name": "stderr",
     "output_type": "stream",
     "text": [
      "Epochs:   0%|          | 0/20 [00:00<?, ?it/s]2023-11-20 13:53:44.995988: I tensorflow/core/common_runtime/executor.cc:1197] [/device:CPU:0] (DEBUG INFO) Executor start aborting (this does not indicate an error and you can ignore this message): INVALID_ARGUMENT: You must feed a value for placeholder tensor 'Placeholder/_1' with dtype string and shape [1]\n",
      "\t [[{{node Placeholder/_1}}]]\n",
      "2023-11-20 13:53:44.996568: I tensorflow/core/common_runtime/executor.cc:1197] [/device:CPU:0] (DEBUG INFO) Executor start aborting (this does not indicate an error and you can ignore this message): INVALID_ARGUMENT: You must feed a value for placeholder tensor 'Placeholder/_1' with dtype string and shape [1]\n",
      "\t [[{{node Placeholder/_1}}]]\n",
      "2023-11-20 13:53:53.076549: I tensorflow/core/common_runtime/executor.cc:1197] [/device:CPU:0] (DEBUG INFO) Executor start aborting (this does not indicate an error and you can ignore this message): INVALID_ARGUMENT: You must feed a value for placeholder tensor 'Placeholder/_4' with dtype int64 and shape [1]\n",
      "\t [[{{node Placeholder/_4}}]]\n",
      "2023-11-20 13:53:53.077266: I tensorflow/core/common_runtime/executor.cc:1197] [/device:CPU:0] (DEBUG INFO) Executor start aborting (this does not indicate an error and you can ignore this message): INVALID_ARGUMENT: You must feed a value for placeholder tensor 'Placeholder/_2' with dtype string and shape [1]\n",
      "\t [[{{node Placeholder/_2}}]]\n",
      "Epochs:   5%|▌         | 1/20 [00:08<02:46,  8.77s/it]"
     ]
    },
    {
     "name": "stdout",
     "output_type": "stream",
     "text": [
      "Train Loss: 0.7605, Train Accuracy: 0.7688\n",
      "Test Loss: 0.4156, Test Accuracy: 0.8820\n",
      "\n"
     ]
    },
    {
     "name": "stderr",
     "output_type": "stream",
     "text": [
      "Epochs:  10%|█         | 2/20 [00:17<02:36,  8.71s/it]"
     ]
    },
    {
     "name": "stdout",
     "output_type": "stream",
     "text": [
      "Train Loss: 0.5708, Train Accuracy: 0.8297\n",
      "Test Loss: 0.3696, Test Accuracy: 0.8945\n",
      "\n"
     ]
    },
    {
     "name": "stderr",
     "output_type": "stream",
     "text": [
      "Epochs:  15%|█▌        | 3/20 [00:26<02:29,  8.77s/it]"
     ]
    },
    {
     "name": "stdout",
     "output_type": "stream",
     "text": [
      "Train Loss: 0.4838, Train Accuracy: 0.8569\n",
      "Test Loss: 0.3415, Test Accuracy: 0.9018\n",
      "\n"
     ]
    },
    {
     "name": "stderr",
     "output_type": "stream",
     "text": [
      "Epochs:  20%|██        | 4/20 [00:35<02:20,  8.78s/it]"
     ]
    },
    {
     "name": "stdout",
     "output_type": "stream",
     "text": [
      "Train Loss: 0.4330, Train Accuracy: 0.8725\n",
      "Test Loss: 0.3230, Test Accuracy: 0.9071\n",
      "\n"
     ]
    },
    {
     "name": "stderr",
     "output_type": "stream",
     "text": [
      "Epochs:  25%|██▌       | 5/20 [00:43<02:11,  8.76s/it]"
     ]
    },
    {
     "name": "stdout",
     "output_type": "stream",
     "text": [
      "Train Loss: 0.3981, Train Accuracy: 0.8834\n",
      "Test Loss: 0.3117, Test Accuracy: 0.9108\n",
      "\n"
     ]
    },
    {
     "name": "stderr",
     "output_type": "stream",
     "text": [
      "Epochs:  30%|███       | 6/20 [00:52<02:01,  8.71s/it]"
     ]
    },
    {
     "name": "stdout",
     "output_type": "stream",
     "text": [
      "Train Loss: 0.3730, Train Accuracy: 0.8912\n",
      "Test Loss: 0.3016, Test Accuracy: 0.9133\n",
      "\n"
     ]
    },
    {
     "name": "stderr",
     "output_type": "stream",
     "text": [
      "Epochs:  35%|███▌      | 7/20 [01:01<01:54,  8.78s/it]"
     ]
    },
    {
     "name": "stdout",
     "output_type": "stream",
     "text": [
      "Train Loss: 0.3538, Train Accuracy: 0.8970\n",
      "Test Loss: 0.2961, Test Accuracy: 0.9148\n",
      "\n"
     ]
    },
    {
     "name": "stderr",
     "output_type": "stream",
     "text": [
      "Epochs:  40%|████      | 8/20 [01:10<01:46,  8.86s/it]"
     ]
    },
    {
     "name": "stdout",
     "output_type": "stream",
     "text": [
      "Train Loss: 0.3383, Train Accuracy: 0.9016\n",
      "Test Loss: 0.2886, Test Accuracy: 0.9167\n",
      "\n"
     ]
    },
    {
     "name": "stderr",
     "output_type": "stream",
     "text": [
      "Epochs:  45%|████▌     | 9/20 [01:20<01:42,  9.28s/it]"
     ]
    },
    {
     "name": "stdout",
     "output_type": "stream",
     "text": [
      "Train Loss: 0.3252, Train Accuracy: 0.9056\n",
      "Test Loss: 0.2810, Test Accuracy: 0.9190\n",
      "\n"
     ]
    },
    {
     "name": "stderr",
     "output_type": "stream",
     "text": [
      "Epochs:  50%|█████     | 10/20 [01:29<01:32,  9.23s/it]"
     ]
    },
    {
     "name": "stdout",
     "output_type": "stream",
     "text": [
      "Train Loss: 0.3137, Train Accuracy: 0.9090\n",
      "Test Loss: 0.2738, Test Accuracy: 0.9210\n",
      "\n"
     ]
    },
    {
     "name": "stderr",
     "output_type": "stream",
     "text": [
      "Epochs:  55%|█████▌    | 11/20 [01:38<01:22,  9.17s/it]"
     ]
    },
    {
     "name": "stdout",
     "output_type": "stream",
     "text": [
      "Train Loss: 0.3040, Train Accuracy: 0.9118\n",
      "Test Loss: 0.2681, Test Accuracy: 0.9224\n",
      "\n"
     ]
    },
    {
     "name": "stderr",
     "output_type": "stream",
     "text": [
      "Epochs:  60%|██████    | 12/20 [01:47<01:12,  9.05s/it]"
     ]
    },
    {
     "name": "stdout",
     "output_type": "stream",
     "text": [
      "Train Loss: 0.2952, Train Accuracy: 0.9144\n",
      "Test Loss: 0.2635, Test Accuracy: 0.9233\n",
      "\n"
     ]
    },
    {
     "name": "stderr",
     "output_type": "stream",
     "text": [
      "Epochs:  65%|██████▌   | 13/20 [01:56<01:02,  8.91s/it]"
     ]
    },
    {
     "name": "stdout",
     "output_type": "stream",
     "text": [
      "Train Loss: 0.2875, Train Accuracy: 0.9167\n",
      "Test Loss: 0.2586, Test Accuracy: 0.9246\n",
      "\n"
     ]
    },
    {
     "name": "stderr",
     "output_type": "stream",
     "text": [
      "Epochs:  70%|███████   | 14/20 [02:04<00:53,  8.87s/it]"
     ]
    },
    {
     "name": "stdout",
     "output_type": "stream",
     "text": [
      "Train Loss: 0.2806, Train Accuracy: 0.9187\n",
      "Test Loss: 0.2543, Test Accuracy: 0.9258\n",
      "\n"
     ]
    },
    {
     "name": "stderr",
     "output_type": "stream",
     "text": [
      "Epochs:  75%|███████▌  | 15/20 [02:14<00:44,  8.98s/it]"
     ]
    },
    {
     "name": "stdout",
     "output_type": "stream",
     "text": [
      "Train Loss: 0.2743, Train Accuracy: 0.9205\n",
      "Test Loss: 0.2508, Test Accuracy: 0.9267\n",
      "\n"
     ]
    },
    {
     "name": "stderr",
     "output_type": "stream",
     "text": [
      "Epochs:  80%|████████  | 16/20 [02:23<00:36,  9.17s/it]"
     ]
    },
    {
     "name": "stdout",
     "output_type": "stream",
     "text": [
      "Train Loss: 0.2685, Train Accuracy: 0.9222\n",
      "Test Loss: 0.2474, Test Accuracy: 0.9276\n",
      "\n"
     ]
    },
    {
     "name": "stderr",
     "output_type": "stream",
     "text": [
      "Epochs:  85%|████████▌ | 17/20 [02:33<00:27,  9.31s/it]"
     ]
    },
    {
     "name": "stdout",
     "output_type": "stream",
     "text": [
      "Train Loss: 0.2633, Train Accuracy: 0.9237\n",
      "Test Loss: 0.2442, Test Accuracy: 0.9284\n",
      "\n"
     ]
    },
    {
     "name": "stderr",
     "output_type": "stream",
     "text": [
      "Epochs:  90%|█████████ | 18/20 [02:42<00:18,  9.24s/it]"
     ]
    },
    {
     "name": "stdout",
     "output_type": "stream",
     "text": [
      "Train Loss: 0.2585, Train Accuracy: 0.9251\n",
      "Test Loss: 0.2415, Test Accuracy: 0.9291\n",
      "\n"
     ]
    },
    {
     "name": "stderr",
     "output_type": "stream",
     "text": [
      "Epochs:  95%|█████████▌| 19/20 [02:51<00:09,  9.17s/it]"
     ]
    },
    {
     "name": "stdout",
     "output_type": "stream",
     "text": [
      "Train Loss: 0.2539, Train Accuracy: 0.9264\n",
      "Test Loss: 0.2395, Test Accuracy: 0.9297\n",
      "\n"
     ]
    },
    {
     "name": "stderr",
     "output_type": "stream",
     "text": [
      "Epochs: 100%|██████████| 20/20 [03:00<00:00,  9.02s/it]"
     ]
    },
    {
     "name": "stdout",
     "output_type": "stream",
     "text": [
      "Train Loss: 0.2497, Train Accuracy: 0.9276\n",
      "Test Loss: 0.2368, Test Accuracy: 0.9304\n",
      "\n"
     ]
    },
    {
     "name": "stderr",
     "output_type": "stream",
     "text": [
      "\n"
     ]
    }
   ],
   "source": [
    "\n",
    "# run already saved models for x epochs\n",
    "NEW_EPOCHS = 20\n",
    "new_USE_SCHEDULER = False\n",
    "\n",
    "models_path = \"./epochs_10/\"\n",
    "models_files = [\"metrics_00.json\",\"metrics_01.json\",\n",
    "                    \"metrics_02.json\", \"metrics_03.json\",\n",
    "                    \"metrics_04.json\", \"metrics_05.json\",\n",
    "                    \"metrics_06.json\", \"metrics_07.json\",\n",
    "                    \"metrics_08.json\", \"metrics_09.json\",\n",
    "                    \"metrics_10.json\", \"metrics_11.json\"]\n",
    "\n",
    "# models_files = [models_files[i] for i in MODELS_IDX + [1]]\n",
    "models_files = [models_files[i] for i in range(len(models_files)) if i not in MODELS_IDX + [1]]\n",
    "\n",
    "models_to_compare = [models_path + model for model in models_files] # add the path to the models\n",
    "\n",
    "new_models_path = f\"./epochs_{NEW_EPOCHS}/\" if new_USE_SCHEDULER else f\"./epochs_{NEW_EPOCHS}_no_scheduler/\"\n",
    "                 \n",
    "for idx, model_file in enumerate(models_to_compare):\n",
    "\n",
    "    new_model_info = train_from_json(model_file, EPOCHS=NEW_EPOCHS, USE_SCHEDULER=new_USE_SCHEDULER)\n",
    "     \n",
    "    new_model_file = new_models_path + models_files[idx]\n",
    "    save_model_info(new_model_file, new_model_info)\n"
   ]
  },
  {
   "cell_type": "code",
   "execution_count": 70,
   "metadata": {},
   "outputs": [
    {
     "name": "stderr",
     "output_type": "stream",
     "text": [
      "/tmp/ipykernel_7906/1170558275.py:31: FutureWarning: The behavior of DataFrame concatenation with empty or all-NA entries is deprecated. In a future version, this will no longer exclude empty or all-NA columns when determining the result dtypes. To retain the old behavior, exclude the relevant entries before the concat operation.\n",
      "  df = pd.concat([df, new_entry_df], ignore_index=True)\n"
     ]
    },
    {
     "data": {
      "image/png": "[encoded data removed]",
      "text/plain": [
       "<Figure size 1000x1000 with 1 Axes>"
      ]
     },
     "metadata": {},
     "output_type": "display_data"
    },
    {
     "data": {
      "text/html": [
       "<div>\n",
       "<style scoped>\n",
       "    .dataframe tbody tr th:only-of-type {\n",
       "        vertical-align: middle;\n",
       "    }\n",
       "\n",
       "    .dataframe tbody tr th {\n",
       "        vertical-align: top;\n",
       "    }\n",
       "\n",
       "    .dataframe thead th {\n",
       "        text-align: right;\n",
       "    }\n",
       "</style>\n",
       "<table border=\"1\" class=\"dataframe\">\n",
       "  <thead>\n",
       "    <tr style=\"text-align: right;\">\n",
       "      <th></th>\n",
       "      <th>model</th>\n",
       "      <th>layers</th>\n",
       "      <th>#params</th>\n",
       "      <th>lr</th>\n",
       "      <th>momentum</th>\n",
       "      <th>mini_batch</th>\n",
       "      <th>epochs</th>\n",
       "      <th>optimizer</th>\n",
       "      <th>accuracy_test</th>\n",
       "      <th>accuracy_train</th>\n",
       "    </tr>\n",
       "  </thead>\n",
       "  <tbody>\n",
       "    <tr>\n",
       "      <th>0</th>\n",
       "      <td>CNN_2Conv_2MaxPool_1Dense</td>\n",
       "      <td>[]</td>\n",
       "      <td>71786</td>\n",
       "      <td>0.010</td>\n",
       "      <td>0.9</td>\n",
       "      <td>512</td>\n",
       "      <td>20</td>\n",
       "      <td>Adam</td>\n",
       "      <td>0.9864</td>\n",
       "      <td>0.9887</td>\n",
       "    </tr>\n",
       "    <tr>\n",
       "      <th>5</th>\n",
       "      <td>CNN_2Conv_2MaxPool_1Dense</td>\n",
       "      <td>[]</td>\n",
       "      <td>71786</td>\n",
       "      <td>0.010</td>\n",
       "      <td>0.9</td>\n",
       "      <td>512</td>\n",
       "      <td>20</td>\n",
       "      <td>SGD</td>\n",
       "      <td>0.9808</td>\n",
       "      <td>0.9737</td>\n",
       "    </tr>\n",
       "    <tr>\n",
       "      <th>1</th>\n",
       "      <td>Dense_3</td>\n",
       "      <td>[128, 64, 32]</td>\n",
       "      <td>111146</td>\n",
       "      <td>0.010</td>\n",
       "      <td>0.9</td>\n",
       "      <td>512</td>\n",
       "      <td>20</td>\n",
       "      <td>SGD</td>\n",
       "      <td>0.9566</td>\n",
       "      <td>0.9530</td>\n",
       "    </tr>\n",
       "    <tr>\n",
       "      <th>2</th>\n",
       "      <td>Dense_1</td>\n",
       "      <td>[64]</td>\n",
       "      <td>50890</td>\n",
       "      <td>0.010</td>\n",
       "      <td>0.5</td>\n",
       "      <td>128</td>\n",
       "      <td>20</td>\n",
       "      <td>SGD</td>\n",
       "      <td>0.9446</td>\n",
       "      <td>0.9403</td>\n",
       "    </tr>\n",
       "    <tr>\n",
       "      <th>3</th>\n",
       "      <td>Dense_1</td>\n",
       "      <td>[64]</td>\n",
       "      <td>50890</td>\n",
       "      <td>0.010</td>\n",
       "      <td>0.5</td>\n",
       "      <td>256</td>\n",
       "      <td>20</td>\n",
       "      <td>SGD</td>\n",
       "      <td>0.9251</td>\n",
       "      <td>0.9172</td>\n",
       "    </tr>\n",
       "    <tr>\n",
       "      <th>4</th>\n",
       "      <td>Dense_1</td>\n",
       "      <td>[16]</td>\n",
       "      <td>12730</td>\n",
       "      <td>0.001</td>\n",
       "      <td>0.9</td>\n",
       "      <td>64</td>\n",
       "      <td>20</td>\n",
       "      <td>Adam</td>\n",
       "      <td>0.9248</td>\n",
       "      <td>0.9241</td>\n",
       "    </tr>\n",
       "  </tbody>\n",
       "</table>\n",
       "</div>"
      ],
      "text/plain": [
       "                       model         layers #params     lr  momentum  \\\n",
       "0  CNN_2Conv_2MaxPool_1Dense             []   71786  0.010       0.9   \n",
       "5  CNN_2Conv_2MaxPool_1Dense             []   71786  0.010       0.9   \n",
       "1                    Dense_3  [128, 64, 32]  111146  0.010       0.9   \n",
       "2                    Dense_1           [64]   50890  0.010       0.5   \n",
       "3                    Dense_1           [64]   50890  0.010       0.5   \n",
       "4                    Dense_1           [16]   12730  0.001       0.9   \n",
       "\n",
       "  mini_batch epochs optimizer  accuracy_test  accuracy_train  \n",
       "0        512     20      Adam         0.9864          0.9887  \n",
       "5        512     20       SGD         0.9808          0.9737  \n",
       "1        512     20       SGD         0.9566          0.9530  \n",
       "2        128     20       SGD         0.9446          0.9403  \n",
       "3        256     20       SGD         0.9251          0.9172  \n",
       "4         64     20      Adam         0.9248          0.9241  "
      ]
     },
     "execution_count": 70,
     "metadata": {},
     "output_type": "execute_result"
    }
   ],
   "source": [
    "# models_path = \"./epochs_10/\"\n",
    "# models_path = \"./epochs_20/\"\n",
    "# models_path = \"./epochs_10_no_scheduler/\"\n",
    "models_path = \"./epochs_20_no_scheduler/\"\n",
    "\n",
    "models_files = [\"metrics_00.json\",\"metrics_01.json\",\n",
    "                    \"metrics_02.json\", \"metrics_03.json\",\n",
    "                    \"metrics_04.json\", \"metrics_05.json\",\n",
    "                    \"metrics_06.json\", \"metrics_07.json\",\n",
    "                    \"metrics_08.json\", \"metrics_09.json\",\n",
    "                    \"metrics_10.json\", \"metrics_11.json\"]\n",
    "models_files = [models_files[i] for i in MODELS_IDX + [1]]\n",
    "\n",
    "models_to_compare = [models_path + model for model in models_files] # add the path to the models\n",
    "df = compare_models(models_to_compare, plot=True)\n",
    "df\n",
    "\n",
    "\n"
   ]
  }
 ],
 "metadata": {
  "kernelspec": {
   "display_name": ".venv",
   "language": "python",
   "name": "python3"
  },
  "language_info": {
   "codemirror_mode": {
    "name": "ipython",
    "version": 3
   },
   "file_extension": ".py",
   "mimetype": "text/x-python",
   "name": "python",
   "nbconvert_exporter": "python",
   "pygments_lexer": "ipython3",
   "version": "3.11.5"
  }
 },
 "nbformat": 4,
 "nbformat_minor": 2
}
